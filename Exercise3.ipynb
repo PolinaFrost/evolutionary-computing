{
  "cells": [
    {
      "cell_type": "code",
      "execution_count": null,
      "metadata": {
        "id": "r2j0xeCaLzz1"
      },
      "outputs": [],
      "source": [
        "import numpy as np\n",
        "import pandas as pd\n",
        "import random\n",
        "from  scipy.stats import bernoulli\n",
        "import matplotlib.pyplot as plt\n",
        "import time"
      ]
    },
    {
      "cell_type": "markdown",
      "metadata": {
        "id": "v1-0kYDhnfPj"
      },
      "source": [
        "# Implementing a simple GA algorithm for the Travelling Salesman Problem"
      ]
    },
    {
      "cell_type": "code",
      "execution_count": null,
      "metadata": {
        "id": "zWJ6nLeT1nCF"
      },
      "outputs": [],
      "source": [
        "def sampleSolution(cities):\n",
        "  \n",
        "    \"\"\"\n",
        "      Samples randomly a route, represented as a permutation of the cities\n",
        "    \"\"\"\n",
        "    route = random.sample(cities, len(cities))\n",
        "    return route"
      ]
    },
    {
      "cell_type": "code",
      "execution_count": null,
      "metadata": {
        "id": "F90Zl3BW9-MC"
      },
      "outputs": [],
      "source": [
        "def map_index_to_city(cities):\n",
        "    \"\"\"\n",
        "      From a list of cities, returns a dictionary with \n",
        "      key = length of the city in the dictionary\n",
        "      value = coordinates of the city\n",
        "    \"\"\"\n",
        "    dictionary_cities = {}\n",
        "    for _ in range(len(cities)):\n",
        "      dictionary_cities[_+1] = cities[_]\n",
        "    return dictionary_cities"
      ]
    },
    {
      "cell_type": "code",
      "execution_count": null,
      "metadata": {
        "id": "zrASvmBhKsY_"
      },
      "outputs": [],
      "source": [
        "def distance(city1, city2):\n",
        "\n",
        "    \"\"\"\n",
        "      Computes the distance between the cities \n",
        "    \"\"\"\n",
        "\n",
        "    x_1 = city1[0]\n",
        "    y_1 = city1[1]\n",
        "    x_2 = city2[0]\n",
        "    y_2 = city2[1]\n",
        "    distance = np.sqrt((x_1-x_2)**2+(y_1-y_2)**2)\n",
        "    #print(distance)\n",
        "    return distance"
      ]
    },
    {
      "cell_type": "code",
      "execution_count": null,
      "metadata": {
        "id": "ex2wd4n2OnTY"
      },
      "outputs": [],
      "source": [
        "def fitness_and_distance(representation, dist_Matrix):\n",
        "  \"\"\"\n",
        "    Computes the distance and the fitness of a candidate (route) as the inverse of the \n",
        "    total distance travelled\n",
        "    Parameters\n",
        "        ----------\n",
        "        representation : list of integers\n",
        "        dist_Matrix : np.array \n",
        "            its [i,j] element is the distance between city i and city j\n",
        "  \"\"\"\n",
        "\n",
        "  # first, we compute the distance among the cities in the route\n",
        "  distance_route = 0\n",
        "  for _ in range(len(representation)-1):\n",
        "    #distance_route += distance(route[_], route[_+1])\n",
        "    distance_route +=dist_Matrix[int(representation[_]), int(representation[_+1])]\n",
        "  # the fitness is defined as the inverse of the distance\n",
        "  fitness = 1/distance_route\n",
        "\n",
        "  return fitness, distance_route"
      ]
    },
    {
      "cell_type": "code",
      "execution_count": null,
      "metadata": {
        "id": "8lN-x3W8KRto"
      },
      "outputs": [],
      "source": [
        "def computeFitnessForGeneration(generation, N_Pool, dicCities, dist_Matrix):\n",
        "  \"\"\"\n",
        "    Applies the fitness function to every route in the generation\n",
        "    Parameters\n",
        "        ----------\n",
        "        generation : list of representations\n",
        "        N_Pool : number of routes in the generation\n",
        "        dicCities : dictionary containing cities coordinates\n",
        "        dist_Matrix : np.array \n",
        "            its [i,j] element is the distance between city i and city j\n",
        "  \"\"\"\n",
        "  fit_values = []\n",
        "  distance_values = []\n",
        "  for i in range(N_Pool):\n",
        "    candidate = generation[i]\n",
        "    #route = get_route_from_representation(candidate, dicCities)\n",
        "    fit_route, dis_route = fitness_and_distance(candidate,  dist_Matrix)\n",
        "    fit_values.append(fit_route)\n",
        "    distance_values.append(dis_route)\n",
        "  return distance_values, fit_values"
      ]
    },
    {
      "cell_type": "code",
      "execution_count": null,
      "metadata": {
        "id": "BdfSER_A2dXi"
      },
      "outputs": [],
      "source": [
        "def selectFittest(pool, fitnessPool):\n",
        "    \"\"\"\n",
        "      Implements tournament selection with K = 2\n",
        "      Parameters\n",
        "        ----------\n",
        "        pool : list of representations\n",
        "        fitnessPool : np.array\n",
        "            contains the fitness value of the representation in the pool\n",
        "    \"\"\"\n",
        "    # This implementation of the K-tournament returns the list of parents\n",
        "    # Selected one-by-one choosing randomly two routes and then appending the fittest\n",
        "    # between these two, until we obtain a new pool with the same length of\n",
        "    # the original one\n",
        "    parents = []\n",
        "    N_Pool = len(pool)\n",
        "    for _ in range(len(pool)):\n",
        "      id1 = random.randint(0,N_Pool -1)\n",
        "      id2 = random.randint(0,N_Pool -1)\n",
        "      if fitnessPool[id1]> fitnessPool[id2]:\n",
        "        best = id1\n",
        "      else:\n",
        "        best = id2\n",
        "      parents.append(pool[best])\n",
        "    return parents\n",
        "      \n",
        "             \n",
        "    "
      ]
    },
    {
      "cell_type": "code",
      "execution_count": null,
      "metadata": {
        "id": "4saPEnpt_qIi"
      },
      "outputs": [],
      "source": [
        "def replace_complementary(parent, child, startGene, endGene):\n",
        "   \"\"\"\n",
        "    Given a parent and the child with positions filled in from startGene and endGene,\n",
        "    computes the missing parts of the child\n",
        "   \"\"\"\n",
        "   replace_left = 0\n",
        "   replace_right = 0\n",
        "   swaps_right = (len(parent) - 1 - endGene)\n",
        "   swaps_left = startGene\n",
        "   \n",
        "   # replacing missing parts from the right\n",
        "   for i in range(len(parent)):\n",
        "      if replace_right == swaps_right:\n",
        "        break\n",
        "      if int(parent[i]) not in child:\n",
        "          replace_right += 1   \n",
        "          child[endGene  + replace_right] = int(parent[i])\n",
        "           \n",
        "  # replacing missing parts from the left\n",
        "   for j in range( i-1, len(parent)):\n",
        "       if replace_left == swaps_left:\n",
        "          break\n",
        "       if int(parent[j]) not in child:\n",
        "          replace_left += 1\n",
        "          child[replace_left - 1] = int(parent[j])\n",
        "   child = np.int_(child)\n",
        "   return child.tolist()"
      ]
    },
    {
      "cell_type": "code",
      "execution_count": null,
      "metadata": {
        "id": "H-2mpHhk5sAz"
      },
      "outputs": [],
      "source": [
        "def crossover(father, mother, nSize, pCrossover=0.1):\n",
        "\n",
        "    \"\"\"\n",
        "      Implements the ordered crossover operation \n",
        "    \"\"\"\n",
        "    if np.random.random() < pCrossover:\n",
        "      child1 = np.zeros(len(father))\n",
        "      child2 = np.zeros(len(father))\n",
        "      \n",
        "      # Choosing randomly cut points\n",
        "      cut1 = random.randint(1,nSize-1)\n",
        "      cut2 = random.randint(1,nSize-1)\n",
        "\n",
        "      # Taking the minimum as the start gene, the maximum as end gene\n",
        "      startGene = min(cut1, cut2)\n",
        "      endGene = max(cut1, cut2)\n",
        "      \n",
        "      # Keeping the middle piece\n",
        "      for i in range(startGene, endGene):\n",
        "          child1[i] = father[i]\n",
        "          child2[i] = mother[i]\n",
        "\n",
        "      # Replacing the missing parts with the complementary of the other parent\n",
        "      child1 = replace_complementary(mother, child1, startGene, endGene-1)\n",
        "      child2 = replace_complementary(father, child2, startGene, endGene-1)\n",
        "      #print('StartGene: ', startGene)\n",
        "      #print('endGene: ', endGene)\n",
        "      #print('father: ', father)\n",
        "      #print('mother: ', mother)\n",
        "      #print('child1: ', child1)\n",
        "      #print('child2: ', child2)\n",
        "    else:\n",
        "      # no crossover occurs, so just return the parents\n",
        "      child1 = father \n",
        "      child2 = mother\n",
        "      \n",
        "\n",
        "      \n",
        "    return child1, child2"
      ]
    },
    {
      "cell_type": "code",
      "execution_count": null,
      "metadata": {
        "id": "p0fF6TjgDAJT"
      },
      "outputs": [],
      "source": [
        "def mutation(child, nSize, mutationRate=0.01):\n",
        "  \"\"\"\n",
        "    Implements the mutation operation\n",
        "  \"\"\"\n",
        "  if np.random.random() < mutationRate:\n",
        "    # Choosing randomly indexes to swap\n",
        "    id1 = random.randint(0,nSize-1)\n",
        "    id2 = random.randint(0,nSize-1)\n",
        "\n",
        "    # Implement the swapping\n",
        "    tmp = child[id1]\n",
        "    child[id1] = child[id2]\n",
        "    child[id2] = tmp\n",
        "\n",
        "  return child"
      ]
    },
    {
      "cell_type": "code",
      "execution_count": null,
      "metadata": {
        "id": "cCdZFRTOJ_fC"
      },
      "outputs": [],
      "source": [
        "def generateChildren_withParents(parents, genSize):\n",
        "    \"\"\"\n",
        "      Applies mutation and crossover to the population\n",
        "    \"\"\"\n",
        "    # In this function the new generation can be composed by the parents\n",
        "    # itself because if the crossover and mutations don't happen the parents are\n",
        "    # inserted in the new generation without variation\n",
        "    generation = []\n",
        "    nSize = len(parents[0])\n",
        "    for k in range(int(np.floor(genSize/2))):\n",
        "      \n",
        "      c1, c2 = crossover(parents[2*k], parents[2*(k)+1],nSize )\n",
        "      c1 = mutation(c1, nSize)\n",
        "      c2 = mutation(c2, nSize)\n",
        "      generation.append(c1)\n",
        "      generation.append(c2)\n",
        "    return generation"
      ]
    },
    {
      "cell_type": "code",
      "source": [
        "def generateChildren_noParents(pool, genSize, fitnessPool):\n",
        "    \"\"\"\n",
        "      Applies mutation and crossover to the population\n",
        "    \"\"\"\n",
        "    # In this function if the crossover doesn't happen we choose new parents\n",
        "    # until we obtain a new population entirely made by crossover individuals\n",
        "    generation = []\n",
        "    nSize = len(pool[0])\n",
        "    crossoverRate = 0.1\n",
        "    nChildren = 0\n",
        "    while nChildren < genSize:\n",
        "      if np.random.random() < crossoverRate:\n",
        "        # Select the first parent\n",
        "        id1 = random.randint(0,N_Pool -1)\n",
        "        id2 = random.randint(0,N_Pool -1)\n",
        "        if fitnessPool[id1]> fitnessPool[id2]:\n",
        "          best1 = id1\n",
        "        else:\n",
        "          best1 = id2\n",
        "        # Select the second parent\n",
        "        id1 = random.randint(0,N_Pool -1)\n",
        "        id2 = random.randint(0,N_Pool -1)\n",
        "        if fitnessPool[id1]> fitnessPool[id2]:\n",
        "          best2 = id1\n",
        "        else:\n",
        "          best2 = id2\n",
        "        # Do the crossover\n",
        "        child1, child2 = crossover(pool[best1], pool[best2], nSize, pCrossover = 2.0 )\n",
        "        child1 = mutation(child1, nSize)\n",
        "        child2 = mutation(child2, nSize)\n",
        "        generation.append(child1)\n",
        "        generation.append(child2)\n",
        "        nChildren += 2\n",
        "        #print('type of generario in generateParents', type(generation))\n",
        "    if len(generation) != genSize:\n",
        "      print('!!! Length error !!!')\n",
        "    return generation\n",
        "\n"
      ],
      "metadata": {
        "id": "IqpDUeuE8zUg"
      },
      "execution_count": null,
      "outputs": []
    },
    {
      "cell_type": "code",
      "execution_count": null,
      "metadata": {
        "id": "MfAG-qFwOX9P"
      },
      "outputs": [],
      "source": [
        "def evolutionaryAlgorithm(cities):\n",
        "  N_Cities = len(cities)\n",
        "  print('N_Cities,', N_Cities)\n",
        "  # Convenient to work with representation of cities given by the key in the dictionary\n",
        "  cities_rep = range(1, N_Cities + 1)\n",
        "  # Stores in a dictionary the pair (index of the city: coordinates of the city)\n",
        "  cities_dictionary = map_index_to_city(cities)\n",
        "  print(cities_dictionary)\n",
        "\n",
        "  # Keeping track of useful statistics\n",
        "  avg_fitness = []\n",
        "  avg_distance = []\n",
        "  best_distance = []\n",
        "\n",
        "  # To rapidly compute the distances we create a matrix of distances\n",
        "  # such that dist_matrix[i,j] = dist(city i, city j) where i and j are the \n",
        "  # positions in the dictionary, then we pass this matrix as an argument to functions\n",
        "  dist_matrix = np.zeros((N_Cities+1, N_Cities+1))\n",
        "  for i in range(1, N_Cities + 1):\n",
        "    for j in range(i, N_Cities + 1):\n",
        "      dist_matrix[i,j] = distance(cities_dictionary[i], cities_dictionary[j])\n",
        "      dist_matrix[j,i] = dist_matrix[i,j]\n",
        "  \n",
        "  for i in range(N_Experiments):\n",
        "\n",
        "    generation = []\n",
        "\n",
        "    for l in range(N_Pool):\n",
        "      # First step: Initializiation of the first generation\n",
        "      candidate = sampleSolution(cities_rep)\n",
        "      generation.append(candidate)\n",
        "      \n",
        "    \n",
        "    fit_gen = np.zeros(N_Generations)\n",
        "    dis_gen = np.zeros(N_Generations)\n",
        "    b_dis_gen = np.zeros(N_Generations)\n",
        "    count_dis = 0\n",
        "    best_track = 100000000\n",
        "\n",
        "    for j in range(N_Generations):\n",
        "      \n",
        "      # Uncomment this part if you want to keep track of the best distance during execution\n",
        "      #if j%100==0:\n",
        "          #print(f'Generation number {j}: Distance value {best_track}')\n",
        "\n",
        "      # Second step: Compute fitness for every sample\n",
        "      distance_travelled, fit_values = computeFitnessForGeneration(generation, N_Pool, cities_dictionary, dist_matrix)\n",
        "      \n",
        "      # Keeping track of the statistics for plotting\n",
        "      fit_gen[j] = max(fit_values)\n",
        "      dis_gen[j] = min(distance_travelled)\n",
        "      b_dis_gen[j] = min(dis_gen[j], best_track)\n",
        "      best_track = b_dis_gen[j] \n",
        "\n",
        "      # Third step: Selecting the fittest as parents\n",
        "      # Comment this part if you want to use the generateChildren_noParents function\n",
        "      parents = selectFittest(generation, fit_values)\n",
        "      \n",
        "      \n",
        "      # Fourth step: Replacing the parents with children\n",
        "      generation = generateChildren_withParents(parents, N_Pool)\n",
        "      # generation = generateChildren_noParents(generation, N_Pool, fit_values)\n",
        "\n",
        "    print(f'End of Experiment {i+1}: Distance value {best_track}')\n",
        "    avg_fitness.append(fit_gen)\n",
        "    avg_distance.append(dis_gen)\n",
        "    best_distance.append(b_dis_gen)\n",
        "\n",
        "  return avg_distance, avg_fitness, best_distance"
      ]
    },
    {
      "cell_type": "markdown",
      "metadata": {
        "id": "M6TuYDTHkYYH"
      },
      "source": [
        "# Implement greedy search through 2-opt mutation"
      ]
    },
    {
      "cell_type": "code",
      "source": [
        "def two_opt_wiki_local(representation, cities_dictionary, dist_Matrix): \n",
        "    \"\"\"\n",
        "      Implements the two-opt swap \n",
        "    \"\"\"\n",
        "    # In this implementation we define the neighborhood of a route as the place \n",
        "    # such that can be reached by performing one 2-opt swap\n",
        "    # We search the best route in each neighborhood and then we perform one 2-opt swap\n",
        "    # So we apply the local search once per route, and we greedily pick the best \n",
        "    # neighbor of each individual. \n",
        "    _ , distance_to_beat = fitness_and_distance(representation, dist_Matrix) \n",
        "    initial_distance = distance_to_beat\n",
        "    \n",
        "    # Quantities to keep track of the best neighbor\n",
        "    bestdeltadist = -0.00000000001  # We want to avoid negative quantities given by numerical errors\n",
        "    best_v1 = 0\n",
        "    best_v2 = 0\n",
        "    for i in range(1,len(representation)-1): \n",
        "        for k in range(i+1,len(representation)): \n",
        "            deltadist = - dist_Matrix[int(representation[i-1]), int(representation[i])] - dist_Matrix[int(representation[k-1]), int(representation[k])] + dist_Matrix[int(representation[i-1]), int(representation[k-1])] + dist_Matrix[int(representation[i]), int(representation[k])]\n",
        "            if deltadist < bestdeltadist:\n",
        "              # If distance has improved, keep track of the new best swap\n",
        "              bestdeltadist = deltadist\n",
        "              best_v1 = i\n",
        "              best_v2 = k\n",
        "              \n",
        "    new_representation = []\n",
        "    first_part = representation[0:best_v1]\n",
        "    second_part = representation[best_v1:best_v2]\n",
        "    second_part.reverse()\n",
        "    third_part = representation[best_v2:len(representation)]\n",
        "    new_representation.extend(first_part)\n",
        "    new_representation.extend(second_part)\n",
        "    new_representation.extend(third_part)\n",
        "    if len(new_representation) != len(representation):\n",
        "      print('!!!!!Length error in 2opt!!!!!!')\n",
        "    representation = new_representation\n",
        "    distance_to_beat = distance_to_beat + deltadist\n",
        "    return representation"
      ],
      "metadata": {
        "id": "NuZTE4OCHTvy"
      },
      "execution_count": null,
      "outputs": []
    },
    {
      "cell_type": "code",
      "execution_count": null,
      "metadata": {
        "id": "V926wtVPHc_V"
      },
      "outputs": [],
      "source": [
        "def evolutionaryAlgorithmWithTwoOpt(cities):\n",
        "  N_Cities = len(cities)\n",
        "  print('N_Cities,', N_Cities)\n",
        "  # Convenient to work with representation of cities given by the key in the dictionary\n",
        "  cities_rep = range(1, N_Cities + 1)\n",
        "  # Stores in a dictionary the pair (index of the city: coordinates of the city)\n",
        "  cities_dictionary = map_index_to_city(cities)\n",
        "  print(cities_dictionary)\n",
        "  # Keeping track of useful statistics\n",
        "  avg_fitness = []\n",
        "  avg_distance = []\n",
        "  best_distance = []\n",
        "  tmpavg = 0\n",
        "\n",
        "  # To rapidly compute the deltadist for twoopt we compute a matrix of distances\n",
        "  # such that dist_matrix[i,j] = dist(city i, city j) where i and j are the \n",
        "  # positions in the dictionary, then we pass this matrix as an argument to two_opt\n",
        "  dist_matrix = np.zeros((N_Cities+1, N_Cities+1))\n",
        "  for i in range(1, N_Cities + 1):\n",
        "    for j in range(i, N_Cities + 1):\n",
        "      dist_matrix[i,j] = distance(cities_dictionary[i], cities_dictionary[j])\n",
        "      dist_matrix[j,i] = dist_matrix[i,j]\n",
        "\n",
        "\n",
        "\n",
        "  for i in range(N_Experiments):\n",
        "\n",
        "    generation = []\n",
        "\n",
        "    for l in range(N_Pool):\n",
        "      # First step: Initializiation of the first generation\n",
        "      candidate = sampleSolution(cities_rep)\n",
        "      generation.append(candidate)\n",
        "      \n",
        "    \n",
        "    fit_gen = np.zeros(N_Generations)\n",
        "    dis_gen = np.zeros(N_Generations)\n",
        "    avg_dis_gen = np.zeros(N_Generations)\n",
        "    b_dis_gen = np.zeros(N_Generations)\n",
        "    count_dis = 0\n",
        "    best_track = 100000\n",
        "\n",
        "\n",
        "    for j in range(N_Generations):\n",
        "      \n",
        "      # Uncomment this part if you want to keep track of the best value during the execution\n",
        "      #if j%20==0:\n",
        "          #print(f'Generation number {j}: Distance value {best_track}')\n",
        "      \n",
        "      # Second step: Compute fitness for every sample\n",
        "      distance_travelled, fit_values = computeFitnessForGeneration(generation, N_Pool, cities_dictionary, dist_matrix)\n",
        "\n",
        "      \n",
        "      # Keeping track of the statistics for plotting\n",
        "      fit_gen[j] = max(fit_values) # Maximal fitness in the current generation\n",
        "      avg_dis_gen[j] = sum(distance_travelled)/len(distance_travelled)\n",
        "      dis_gen[j] = min(distance_travelled) # Minimal distance  in the current generation\n",
        "      b_dis_gen[j] = min(dis_gen[j], best_track) # Minimal distance across generations\n",
        "      best_track = b_dis_gen[j] \n",
        "      \n",
        "      # Memetic Algorithm\n",
        "      for k in range(len(generation)):\n",
        "          # Perform the two_opt search to the k-th route in generation\n",
        "          #two_opt_route= two_opt_wiki(generation[k], cities_dictionary, dist_matrix)\n",
        "          two_opt_route= two_opt_wiki_local(generation[k], cities_dictionary, dist_matrix)\n",
        "          generation[k] = two_opt_route\n",
        "\n",
        "      # Third step: Selecting the fittest as parents\n",
        "      # Comment this section if you want to use generateChildren_noParents\n",
        "      parents = selectFittest(generation, fit_values)\n",
        "\n",
        "      \n",
        "      # Fourth step: Replacing the parents with children\n",
        "      generation = generateChildren_withParents(parents, N_Pool)\n",
        "      #generation = generateChildren_noParents(generation, N_Pool, fit_values)\n",
        "\n",
        "    \n",
        "    print(f'End of Experiment {i+1}: Distance value {best_track}')\n",
        "    avg_fitness.append(fit_gen)\n",
        "    avg_distance.append(dis_gen)\n",
        "    best_distance.append(b_dis_gen)\n",
        "\n",
        "  return avg_distance, avg_fitness, best_distance"
      ]
    },
    {
      "cell_type": "markdown",
      "metadata": {
        "id": "8lXZFMLzErgQ"
      },
      "source": [
        "# Simulations"
      ]
    },
    {
      "cell_type": "code",
      "execution_count": null,
      "metadata": {
        "id": "jO0koYrG4_tc"
      },
      "outputs": [],
      "source": [
        "# Initializing parameters of the simulations\n",
        "N_Experiments = 10\n",
        "N_Generations = 1500\n",
        "N_Pool = 500\n",
        "# Simulations for first dataset\n",
        "\n",
        "# Read from the txt file the city coordinates and store them into a np array\n",
        "dataset1 = np.loadtxt(\"file-tsp.txt\")"
      ]
    },
    {
      "cell_type": "code",
      "execution_count": null,
      "metadata": {
        "colab": {
          "base_uri": "https://localhost:8080/",
          "height": 610
        },
        "id": "1gq1MbufHc-e",
        "outputId": "39f5f7f7-ab5f-4038-92c8-8acb03a3b217"
      },
      "outputs": [
        {
          "output_type": "stream",
          "name": "stdout",
          "text": [
            "N_Cities, 50\n",
            "{1: array([ 0.2554, 18.2366]), 2: array([ 0.4339, 15.2476]), 3: array([0.7377, 8.3137]), 4: array([ 1.1354, 16.5638]), 5: array([ 1.582, 17.303]), 6: array([2.0913, 9.2924]), 7: array([ 2.2631, 17.3392]), 8: array([2.6373, 2.6425]), 9: array([ 3.004 , 19.5712]), 10: array([ 3.6684, 14.8018]), 11: array([ 3.863 , 13.7008]), 12: array([4.2065, 9.8224]), 13: array([4.8353, 2.0944]), 14: array([4.9785, 3.1596]), 15: array([ 5.3754, 17.6381]), 16: array([5.9425, 6.036 ]), 17: array([6.1451, 3.8132]), 18: array([ 6.7782, 11.0125]), 19: array([6.9223, 7.7819]), 20: array([7.5691, 0.9378]), 21: array([ 7.819 , 13.1697]), 22: array([8.3332, 5.9161]), 23: array([8.5872, 7.8303]), 24: array([ 9.1224, 14.5889]), 25: array([9.4076, 9.7166]), 26: array([9.7208, 8.1154]), 27: array([10.1662, 19.1705]), 28: array([10.7387,  2.009 ]), 29: array([10.9354,  5.1813]), 30: array([11.3707,  7.2406]), 31: array([11.7418, 13.6874]), 32: array([12.0526,  4.7186]), 33: array([12.6385, 12.1   ]), 34: array([13.095 , 13.6956]), 35: array([13.3533, 17.3524]), 36: array([13.8794,  3.9479]), 37: array([14.2674, 15.8651]), 38: array([14.552 , 17.2489]), 39: array([14.9737, 13.2245]), 40: array([15.2841,  1.4455]), 41: array([15.5761, 12.127 ]), 42: array([16.1313, 14.2029]), 43: array([16.4388, 16.0084]), 44: array([16.7821,  9.4334]), 45: array([17.3928, 12.9692]), 46: array([17.5139,  6.4828]), 47: array([17.9487,  7.5563]), 48: array([18.3958, 19.5112]), 49: array([18.9696, 19.3565]), 50: array([19.0928, 16.5453])}\n",
            "End of Experiment 1: Distance value 120.41129018393124\n",
            "End of Experiment 2: Distance value 120.58827903035447\n",
            "End of Experiment 3: Distance value 123.45551003121852\n",
            "End of Experiment 4: Distance value 122.67612901056138\n",
            "End of Experiment 5: Distance value 121.38856184237405\n",
            "End of Experiment 6: Distance value 119.88056980340626\n",
            "End of Experiment 7: Distance value 117.9012338376484\n",
            "End of Experiment 8: Distance value 120.78022166605368\n",
            "End of Experiment 9: Distance value 119.95196095421205\n",
            "End of Experiment 10: Distance value 122.52494222453612\n",
            "-----------------\n",
            "N_pool = 500,   N_cities = 50\n",
            "N_Generations = 35,   N_Experiments = 10\n",
            "execution time = 374 seconds\n",
            "time per experiment = 37.48654942512512 seconds\n"
          ]
        },
        {
          "output_type": "display_data",
          "data": {
            "text/plain": [
              "<Figure size 432x288 with 1 Axes>"
            ],
            "image/png": "[encoded data removed]"
          },
          "metadata": {
            "needs_background": "light"
          }
        }
      ],
      "source": [
        "start = time.time()\n",
        "\n",
        "distancem, fitnessm, bestdism = evolutionaryAlgorithmWithTwoOpt(dataset1)\n",
        "\n",
        "end = time.time()\n",
        "execution_time = end-start\n",
        "\n",
        "# Print information on the experiments\n",
        "print('-----------------')\n",
        "print(f'N_pool = {N_Pool},   N_cities = {len(dataset1)}')\n",
        "print(f'N_Generations = {N_Generations},   N_Experiments = {N_Experiments}')\n",
        "print(f'execution time = {int(execution_time)} seconds')\n",
        "print(f'time per experiment = {execution_time/N_Experiments} seconds')\n",
        "\n",
        "t = np.arange(0,N_Generations)\n",
        "for i in range(N_Experiments):\n",
        "    plt.plot(t, distancem[i], label=f'Experiment {i+1}')\n",
        "    #plt.plot(t, bestdism[i], label=f'best for generation run {i+1}')\n",
        "plt.title('EA with 2-opt for Dataset 1 ')\n",
        "plt.xlabel('Generations')\n",
        "plt.ylabel('Best distance') \n",
        "plt.legend()\n",
        "plt.show()"
      ]
    },
    {
      "cell_type": "code",
      "execution_count": null,
      "metadata": {
        "colab": {
          "base_uri": "https://localhost:8080/",
          "height": 610
        },
        "id": "fYe6jb0DDsAu",
        "outputId": "284840fb-8ba8-4b87-84ad-5bdd42240866"
      },
      "outputs": [
        {
          "output_type": "stream",
          "name": "stdout",
          "text": [
            "N_Cities, 50\n",
            "{1: array([ 0.2554, 18.2366]), 2: array([ 0.4339, 15.2476]), 3: array([0.7377, 8.3137]), 4: array([ 1.1354, 16.5638]), 5: array([ 1.582, 17.303]), 6: array([2.0913, 9.2924]), 7: array([ 2.2631, 17.3392]), 8: array([2.6373, 2.6425]), 9: array([ 3.004 , 19.5712]), 10: array([ 3.6684, 14.8018]), 11: array([ 3.863 , 13.7008]), 12: array([4.2065, 9.8224]), 13: array([4.8353, 2.0944]), 14: array([4.9785, 3.1596]), 15: array([ 5.3754, 17.6381]), 16: array([5.9425, 6.036 ]), 17: array([6.1451, 3.8132]), 18: array([ 6.7782, 11.0125]), 19: array([6.9223, 7.7819]), 20: array([7.5691, 0.9378]), 21: array([ 7.819 , 13.1697]), 22: array([8.3332, 5.9161]), 23: array([8.5872, 7.8303]), 24: array([ 9.1224, 14.5889]), 25: array([9.4076, 9.7166]), 26: array([9.7208, 8.1154]), 27: array([10.1662, 19.1705]), 28: array([10.7387,  2.009 ]), 29: array([10.9354,  5.1813]), 30: array([11.3707,  7.2406]), 31: array([11.7418, 13.6874]), 32: array([12.0526,  4.7186]), 33: array([12.6385, 12.1   ]), 34: array([13.095 , 13.6956]), 35: array([13.3533, 17.3524]), 36: array([13.8794,  3.9479]), 37: array([14.2674, 15.8651]), 38: array([14.552 , 17.2489]), 39: array([14.9737, 13.2245]), 40: array([15.2841,  1.4455]), 41: array([15.5761, 12.127 ]), 42: array([16.1313, 14.2029]), 43: array([16.4388, 16.0084]), 44: array([16.7821,  9.4334]), 45: array([17.3928, 12.9692]), 46: array([17.5139,  6.4828]), 47: array([17.9487,  7.5563]), 48: array([18.3958, 19.5112]), 49: array([18.9696, 19.3565]), 50: array([19.0928, 16.5453])}\n",
            "End of Experiment 1: Distance value 132.40940511112308\n",
            "End of Experiment 2: Distance value 130.13552642948235\n",
            "End of Experiment 3: Distance value 126.29438537952127\n",
            "End of Experiment 4: Distance value 125.53012103971571\n",
            "End of Experiment 5: Distance value 128.46522706945632\n",
            "End of Experiment 6: Distance value 136.73513849231426\n",
            "End of Experiment 7: Distance value 130.3241220109171\n",
            "End of Experiment 8: Distance value 132.04308716752388\n",
            "End of Experiment 9: Distance value 123.93211710270003\n",
            "End of Experiment 10: Distance value 132.52957301761492\n",
            "-----------------\n",
            "N_pool = 500,   N_cities = 50\n",
            "N_Generations = 1500,   N_Experiments = 10\n",
            "execution time = 402 seconds\n",
            "time per experiment = 40.214758563041684 seconds\n"
          ]
        },
        {
          "output_type": "display_data",
          "data": {
            "text/plain": [
              "<Figure size 432x288 with 1 Axes>"
            ],
            "image/png": "[encoded data removed]"
          },
          "metadata": {
            "needs_background": "light"
          }
        }
      ],
      "source": [
        "start = time.time()\n",
        "\n",
        "distance1, fitness1, bestdis1 = evolutionaryAlgorithm(dataset1)\n",
        "\n",
        "end = time.time()\n",
        "execution_time = end - start\n",
        "\n",
        "# Print information on the experiments\n",
        "print('-----------------')\n",
        "print(f'N_pool = {N_Pool},   N_cities = {len(dataset1)}')\n",
        "print(f'N_Generations = {N_Generations},   N_Experiments = {N_Experiments}')\n",
        "print(f'execution time = {int(execution_time)} seconds')\n",
        "print(f'time per experiment = {execution_time/N_Experiments} seconds')\n",
        "\n",
        "t = np.arange(0,N_Generations)\n",
        "for i in range(N_Experiments):\n",
        "    plt.plot(t, distance1[i], label=f'Experiment {i+1}')\n",
        "    #plt.plot(t, bestdis1[i], label=f'best for generation run {i+1}')\n",
        "plt.title('Simple EA for Dataset 1 ')\n",
        "plt.xlabel('Generations')\n",
        "plt.ylabel('Best distance') \n",
        "plt.legend()\n",
        "plt.show()"
      ]
    },
    {
      "cell_type": "code",
      "execution_count": null,
      "metadata": {
        "id": "04X99fzMnxHE"
      },
      "outputs": [],
      "source": [
        "# Initializing parameters of the simulations\n",
        "N_Experiments = 10\n",
        "N_Generations = 35\n",
        "N_Pool = 500\n",
        "# Simulations for the second dataset\n",
        "\n",
        "# Read from the txt file the city coordinates and store them into a np array\n",
        "dataset2 = np.loadtxt(\"bays29.tsp\", usecols=(1,2))"
      ]
    },
    {
      "cell_type": "code",
      "execution_count": null,
      "metadata": {
        "id": "u24zdo4toL4L",
        "colab": {
          "base_uri": "https://localhost:8080/",
          "height": 610
        },
        "outputId": "4af65f2f-5a54-42b4-f191-004f887f1131"
      },
      "outputs": [
        {
          "output_type": "stream",
          "name": "stdout",
          "text": [
            "N_Cities, 29\n",
            "{1: array([1150., 1760.]), 2: array([ 630., 1660.]), 3: array([  40., 2090.]), 4: array([ 750., 1100.]), 5: array([ 750., 2030.]), 6: array([1030., 2070.]), 7: array([1650.,  650.]), 8: array([1490., 1630.]), 9: array([ 790., 2260.]), 10: array([ 710., 1310.]), 11: array([840., 550.]), 12: array([1170., 2300.]), 13: array([ 970., 1340.]), 14: array([510., 700.]), 15: array([750., 900.]), 16: array([1280., 1200.]), 17: array([230., 590.]), 18: array([460., 860.]), 19: array([1040.,  950.]), 20: array([ 590., 1390.]), 21: array([ 830., 1770.]), 22: array([490., 500.]), 23: array([1840., 1240.]), 24: array([1260., 1500.]), 25: array([1280.,  790.]), 26: array([ 490., 2130.]), 27: array([1460., 1420.]), 28: array([1260., 1910.]), 29: array([ 360., 1980.])}\n",
            "End of Experiment 1: Distance value 8779.619954184907\n",
            "End of Experiment 2: Distance value 8593.423826416216\n",
            "End of Experiment 3: Distance value 8436.866819602052\n",
            "End of Experiment 4: Distance value 8528.449331557898\n",
            "End of Experiment 5: Distance value 9010.47506711033\n",
            "End of Experiment 6: Distance value 8784.814654084928\n",
            "End of Experiment 7: Distance value 8958.244061728159\n",
            "End of Experiment 8: Distance value 8456.411012808818\n",
            "End of Experiment 9: Distance value 8850.492234101268\n",
            "End of Experiment 10: Distance value 8695.02063049528\n",
            "-----------------\n",
            "N_pool = 500,   N_cities = 29\n",
            "N_Generations = 1500,   N_Experiments = 10\n",
            "execution time = 258 seconds\n",
            "time per experiment = 25.88186058998108 seconds\n"
          ]
        },
        {
          "output_type": "display_data",
          "data": {
            "text/plain": [
              "<Figure size 432x288 with 1 Axes>"
            ],
            "image/png": "[encoded data removed]"
          },
          "metadata": {
            "needs_background": "light"
          }
        }
      ],
      "source": [
        "start = time.time()\n",
        "\n",
        "distance2, fitness2, bestdis2 = evolutionaryAlgorithm(dataset2)\n",
        "\n",
        "end = time.time()\n",
        "execution_time = end - start\n",
        "\n",
        "# Print information on the experiments\n",
        "print('-----------------')\n",
        "print(f'N_pool = {N_Pool},   N_cities = {len(dataset2)}')\n",
        "print(f'N_Generations = {N_Generations},   N_Experiments = {N_Experiments}')\n",
        "print(f'execution time = {int(execution_time)} seconds')\n",
        "print(f'time per experiment = {execution_time/N_Experiments} seconds')\n",
        "\n",
        "t = np.arange(0,N_Generations)\n",
        "for i in range(N_Experiments):\n",
        "    plt.plot(t, distance2[i], label=f'Experiment {i+1}')\n",
        "    #plt.plot(t, bestdis2[i], label=f'best for generation run {i+1}')\n",
        "plt.title('Simple EA for Dataset 2 ')\n",
        "plt.xlabel('Generations')\n",
        "plt.ylabel('Best distance') \n",
        "plt.legend()\n",
        "plt.show()"
      ]
    },
    {
      "cell_type": "code",
      "execution_count": null,
      "metadata": {
        "id": "YxKSD6j_pYIH",
        "colab": {
          "base_uri": "https://localhost:8080/",
          "height": 610
        },
        "outputId": "81dad91b-e93a-49ee-c3da-3f8d7f4f38f5"
      },
      "outputs": [
        {
          "output_type": "stream",
          "name": "stdout",
          "text": [
            "N_Cities, 29\n",
            "{1: array([1150., 1760.]), 2: array([ 630., 1660.]), 3: array([  40., 2090.]), 4: array([ 750., 1100.]), 5: array([ 750., 2030.]), 6: array([1030., 2070.]), 7: array([1650.,  650.]), 8: array([1490., 1630.]), 9: array([ 790., 2260.]), 10: array([ 710., 1310.]), 11: array([840., 550.]), 12: array([1170., 2300.]), 13: array([ 970., 1340.]), 14: array([510., 700.]), 15: array([750., 900.]), 16: array([1280., 1200.]), 17: array([230., 590.]), 18: array([460., 860.]), 19: array([1040.,  950.]), 20: array([ 590., 1390.]), 21: array([ 830., 1770.]), 22: array([490., 500.]), 23: array([1840., 1240.]), 24: array([1260., 1500.]), 25: array([1280.,  790.]), 26: array([ 490., 2130.]), 27: array([1460., 1420.]), 28: array([1260., 1910.]), 29: array([ 360., 1980.])}\n",
            "End of Experiment 1: Distance value 8624.273281482223\n",
            "End of Experiment 2: Distance value 8224.407947524627\n",
            "End of Experiment 3: Distance value 8282.502115077568\n",
            "End of Experiment 4: Distance value 8373.757452021908\n",
            "End of Experiment 5: Distance value 8546.567075558356\n",
            "End of Experiment 6: Distance value 8479.523292542784\n",
            "End of Experiment 7: Distance value 8621.860361658035\n",
            "End of Experiment 8: Distance value 8641.89744056981\n",
            "End of Experiment 9: Distance value 8576.332766073128\n",
            "End of Experiment 10: Distance value 8624.932032985984\n",
            "-----------------\n",
            "N_pool = 500,   N_cities = 29\n",
            "N_Generations = 35,   N_Experiments = 10\n",
            "execution time = 128 seconds\n",
            "time per experiment = 12.832806730270386 seconds\n"
          ]
        },
        {
          "output_type": "display_data",
          "data": {
            "text/plain": [
              "<Figure size 432x288 with 1 Axes>"
            ],
            "image/png": "[encoded data removed]"
          },
          "metadata": {
            "needs_background": "light"
          }
        }
      ],
      "source": [
        "start = time.time()\n",
        "\n",
        "distance2m, fitness2m, bestdis2m = evolutionaryAlgorithmWithTwoOpt(dataset2)\n",
        "\n",
        "end = time.time()\n",
        "execution_time = end-start\n",
        "\n",
        "# Print information on the experiments\n",
        "print('-----------------')\n",
        "print(f'N_pool = {N_Pool},   N_cities = {len(dataset2)}')\n",
        "print(f'N_Generations = {N_Generations},   N_Experiments = {N_Experiments}')\n",
        "print(f'execution time = {int(execution_time)} seconds')\n",
        "print(f'time per experiment = {execution_time/N_Experiments} seconds')\n",
        "\n",
        "t = np.arange(0,N_Generations)\n",
        "for i in range(N_Experiments):\n",
        "    plt.plot(t, distance2m[i], label=f'Experiment {i+1}')\n",
        "    #plt.plot(t, bestdis2m[i], label=f'best for generation run {i+1}')\n",
        "plt.title('EA with 2-opt for Dataset 2 ')\n",
        "plt.xlabel('Generations')\n",
        "plt.ylabel('Best distance') \n",
        "plt.legend()\n",
        "plt.show()\n"
      ]
    }
  ],
  "metadata": {
    "colab": {
      "provenance": []
    },
    "kernelspec": {
      "display_name": "Python 3",
      "name": "python3"
    },
    "language_info": {
      "name": "python"
    }
  },
  "nbformat": 4,
  "nbformat_minor": 0
}