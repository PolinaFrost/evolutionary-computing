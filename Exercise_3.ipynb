{
  "nbformat": 4,
  "nbformat_minor": 0,
  "metadata": {
    "colab": {
      "provenance": []
    },
    "kernelspec": {
      "name": "python3",
      "display_name": "Python 3"
    },
    "language_info": {
      "name": "python"
    }
  },
  "cells": [
    {
      "cell_type": "code",
      "source": [
        "import numpy as np\n",
        "import pandas as pd\n",
        "import random\n",
        "from  scipy.stats import bernoulli\n",
        "import matplotlib.pyplot as plt"
      ],
      "metadata": {
        "id": "r2j0xeCaLzz1"
      },
      "execution_count": 1,
      "outputs": []
    },
    {
      "cell_type": "markdown",
      "source": [
        "# Implementing a simple GA algorithm for the Travelling Salesman Problem"
      ],
      "metadata": {
        "id": "v1-0kYDhnfPj"
      }
    },
    {
      "cell_type": "code",
      "source": [
        "def sampleSolution(cities):\n",
        "    \"\"\"\n",
        "      Samples randomly a route, represented as a permutation of the cities\n",
        "    \"\"\"\n",
        "    route = random.sample(cities, len(cities))\n",
        "    return route"
      ],
      "metadata": {
        "id": "zWJ6nLeT1nCF"
      },
      "execution_count": 3,
      "outputs": []
    },
    {
      "cell_type": "code",
      "source": [
        "def map_index_to_city(cities):\n",
        "    \"\"\"\n",
        "      From a list of cities, returns a dictionary with \n",
        "      key = length of the city in the dictionary\n",
        "      value = coordinates of the city\n",
        "    \"\"\"\n",
        "    dictionary_cities = {}\n",
        "    for _ in range(len(cities)):\n",
        "      dictionary_cities[_+1] = cities[_]\n",
        "    return dictionary_cities"
      ],
      "metadata": {
        "id": "F90Zl3BW9-MC"
      },
      "execution_count": 4,
      "outputs": []
    },
    {
      "cell_type": "code",
      "source": [
        "def get_route_from_representation(repList, dictionaryCities):\n",
        "\n",
        "   \"\"\"\n",
        "    From a list of representations of the city, returns the list of coordinates \n",
        "   \"\"\"\n",
        "   \n",
        "   route = []\n",
        "   for rep in repList:\n",
        "     route.append(dictionaryCities[rep])\n",
        "   return route"
      ],
      "metadata": {
        "id": "eFaVEvi0Fy0l"
      },
      "execution_count": 5,
      "outputs": []
    },
    {
      "cell_type": "code",
      "execution_count": 6,
      "metadata": {
        "id": "zrASvmBhKsY_"
      },
      "outputs": [],
      "source": [
        "def distance(city1, city2):\n",
        "\n",
        "    \"\"\"\n",
        "      Computes the distance between the cities \n",
        "    \"\"\"\n",
        "\n",
        "    x_1 = city1[0]\n",
        "    y_1 = city1[1]\n",
        "    x_2 = city2[0]\n",
        "    y_2 = city2[1]\n",
        "    distance = np.sqrt((x_1-x_2)**2+(y_1-y_2)**2)\n",
        "    #print(distance)\n",
        "    return distance"
      ]
    },
    {
      "cell_type": "code",
      "source": [
        "def fitness(route):\n",
        "  \"\"\"\n",
        "    Computes the fitness of a candidate (route) as the inverse of the \n",
        "    total distance travelled\n",
        "  \"\"\"\n",
        "\n",
        "  # first, we compute the distance among the cities in the route\n",
        "  distance_route = 0\n",
        "  for _ in range(len(route)-1):\n",
        "    distance_route += distance(route[_], route[_+1])\n",
        "  #print('Total distance travelled is: ', distance_route)\n",
        "  # the fitness is defined as the inverse of the distance\n",
        "  fitness = 1/distance_route\n",
        "  return fitness"
      ],
      "metadata": {
        "id": "ex2wd4n2OnTY"
      },
      "execution_count": 7,
      "outputs": []
    },
    {
      "cell_type": "code",
      "source": [
        "def computeFitnessForGeneration(generation, N_Pool, dicCities):\n",
        "  \"\"\"\n",
        "    Applies the fitness function to every route in the generation\n",
        "  \"\"\"\n",
        "  fit_values = []\n",
        "  distance_values = []\n",
        "  for i in range(N_Pool):\n",
        "    candidate = generation[i]\n",
        "    route = get_route_from_representation(candidate, dicCities)\n",
        "    fit_route = fitness(route)\n",
        "    fit_values.append(fit_route)\n",
        "    distance_values.append(1/fit_route)\n",
        "  return distance_values, fit_values"
      ],
      "metadata": {
        "id": "8lN-x3W8KRto"
      },
      "execution_count": 8,
      "outputs": []
    },
    {
      "cell_type": "code",
      "source": [
        "def selectFittest(pool, fitnessPool):\n",
        "    \"\"\"\n",
        "      Implements tournament selection with K = 2\n",
        "    \"\"\"\n",
        "    #print(\"Size of the pool is \", len(pool))\n",
        "    parents = []\n",
        "    for _ in range(len(pool)):\n",
        "      id1 = random.randint(0,N_Pool -1)\n",
        "      #print(id1)\n",
        "      id2 = random.randint(0,N_Pool -1)\n",
        "      #print(id2)\n",
        "      if fitnessPool[id1]> fitnessPool[id2]:\n",
        "        best = id1\n",
        "      else:\n",
        "        best = id2\n",
        "      parents.append(pool[best])\n",
        "    return parents\n",
        "      \n",
        "             \n",
        "    "
      ],
      "metadata": {
        "id": "BdfSER_A2dXi"
      },
      "execution_count": 9,
      "outputs": []
    },
    {
      "cell_type": "code",
      "source": [
        "def replace_complementary(parent, child, startGene, endGene):\n",
        "   \"\"\"\n",
        "    Given a parent and the child with positions filled in from startGene and endGene,\n",
        "    computes the missing parts of the child\n",
        "   \"\"\"\n",
        "   replace_left = 0\n",
        "   replace_right = 0\n",
        "   # replacing missing parts from the right\n",
        "   swaps_right = (len(parent)- endGene - 1 )\n",
        "   swaps_left = startGene\n",
        "   #print(swaps_right)\n",
        "  \n",
        "   for i in range(len(parent)):\n",
        "      if replace_right == swaps_right:\n",
        "        break\n",
        "      if int(parent[i]) not in child:\n",
        "          replace_right += 1   \n",
        "          child[endGene  + replace_right] = int(parent[i])\n",
        "           \n",
        "  # replacing missing parts from the left\n",
        "   for j in range( i-1, len(parent)):\n",
        "       if replace_left == swaps_left:\n",
        "          break\n",
        "       if int(parent[j]) not in child:\n",
        "          replace_left += 1\n",
        "          child[replace_left - 1] = int(parent[j])\n",
        "  # print('child', child) \n",
        "          \n",
        "   return child"
      ],
      "metadata": {
        "id": "4saPEnpt_qIi"
      },
      "execution_count": 10,
      "outputs": []
    },
    {
      "cell_type": "code",
      "source": [
        "def crossover(father, mother):\n",
        "\n",
        "    \"\"\"\n",
        "      Implements the ordered crossover operation \n",
        "    \"\"\"\n",
        "    child1 = np.zeros(len(father))\n",
        "    child2 = np.zeros(len(father))\n",
        "    \n",
        "    # Choosing randomly cut points\n",
        "    #cut1 = random.randint(1,49)\n",
        "    #cut2 = random.randint(1,49)\n",
        "    cut1 = 3\n",
        "    cut2 = 47\n",
        "   # print('First cut point',cut1 )\n",
        "    #print('Second cut point', cut2)\n",
        "    # Taking the minimum as the start gene, the maximum as end gene\n",
        "    startGene = min(cut1, cut2)\n",
        "    endGene = max(cut1, cut2)\n",
        "    \n",
        "    # Keeping the middle piece\n",
        "    for i in range(startGene, endGene+1):\n",
        "        #print('i', i)\n",
        "        child1[i] = father[i]\n",
        "        child2[i] = mother[i]\n",
        "\n",
        "    # Replacing the missing parts with the complementary of the other parent\n",
        "    child1 = replace_complementary(mother, child1, startGene, endGene)\n",
        "    child2 = replace_complementary(father, child2, startGene, endGene)\n",
        "    \n",
        "\n",
        "    \n",
        "\n",
        "    return child1, child2"
      ],
      "metadata": {
        "id": "H-2mpHhk5sAz"
      },
      "execution_count": 11,
      "outputs": []
    },
    {
      "cell_type": "code",
      "source": [
        "def mutation(child, mutationRate):\n",
        "  \"\"\"\n",
        "    Implements the mutation operation\n",
        "  \"\"\"\n",
        "  if np.random.random() < mutationRate:\n",
        "    # Choosing randomly indexes to swap\n",
        "    id1 = random.randint(0,49)\n",
        "    id2 = random.randint(0,49)\n",
        "\n",
        "    # Implement the swapping\n",
        "    tmp = child[id1]\n",
        "    child[id1] = child[id2]\n",
        "    child[id2] = tmp\n",
        "\n",
        "  return child"
      ],
      "metadata": {
        "id": "p0fF6TjgDAJT"
      },
      "execution_count": 12,
      "outputs": []
    },
    {
      "cell_type": "code",
      "source": [
        "def generateChildren(parents, genSize):\n",
        "    \"\"\"\n",
        "      Applies mutation and crossover to the population\n",
        "    \"\"\"\n",
        "    generation = []\n",
        "    for k in range(int(np.floor(genSize/2))):\n",
        "      \n",
        "      c1, c2 = crossover(parents[2*k], parents[2*(k)+1])\n",
        "      c1 = mutation(c1, 0.01)\n",
        "      c2 = mutation(c2, 0.01)\n",
        "      generation.append(c1)\n",
        "      generation.append(c2)\n",
        "    return generation"
      ],
      "metadata": {
        "id": "cCdZFRTOJ_fC"
      },
      "execution_count": 13,
      "outputs": []
    },
    {
      "cell_type": "code",
      "source": [
        "def evolutionaryAlgorithm(cities):\n",
        "  N_Cities = len(cities)\n",
        "  print('N_Cities,', N_Cities)\n",
        "  # Convenient to work with representation of cities given by the key in the dictionary\n",
        "  cities_rep = range(1, N_Cities + 1)\n",
        "  # Stores in a dictionary the pair (index of the city: coordinates of the city)\n",
        "  cities_dictionary = map_index_to_city(cities)\n",
        "  print(cities_dictionary)\n",
        "\n",
        "  # Keeping track of useful statistics\n",
        "  avg_fitness = []\n",
        "  avg_distance = []\n",
        "  best_distance = []\n",
        "  \n",
        "  for i in range(N_Experiments):\n",
        "\n",
        "    generation = []\n",
        "\n",
        "    for l in range(N_Pool):\n",
        "\n",
        "      # First step: Initializiation of the first generation\n",
        "      candidate = sampleSolution(cities_rep)\n",
        "      generation.append(candidate)\n",
        "      \n",
        "    \n",
        "    fit_gen = np.zeros(N_Generations)\n",
        "    dis_gen = np.zeros(N_Generations)\n",
        "    b_dis_gen = np.zeros(N_Generations)\n",
        "    count_dis = 0\n",
        "    best_track = 1000\n",
        "\n",
        "    for j in range(N_Generations):\n",
        "      #print('Generation number ', j)\n",
        "\n",
        "      # Second step: Compute fitness for every sample\n",
        "      distance_travelled, fit_values = computeFitnessForGeneration(generation, N_Pool, cities_dictionary)\n",
        "      \n",
        "      # Keeping track of the statistics for plotting\n",
        "      fit_gen[j] = max(fit_values)\n",
        "      dis_gen[j] = min(distance_travelled)\n",
        "      b_dis_gen[j] = min(dis_gen[j], best_track)\n",
        "      best_track = b_dis_gen[j] \n",
        "\n",
        "      # Third step: Selecting the fittest as parents\n",
        "      parents = selectFittest(generation, fit_values)\n",
        "      \n",
        "      \n",
        "      # Fourth step: Replacing the parents with children\n",
        "      generation = generateChildren(parents, N_Pool)\n",
        "\n",
        "    avg_fitness.append(fit_gen)\n",
        "    avg_distance.append(dis_gen)\n",
        "    best_distance.append(b_dis_gen)\n",
        "\n",
        "  return avg_distance, avg_fitness, best_distance"
      ],
      "metadata": {
        "id": "MfAG-qFwOX9P"
      },
      "execution_count": 16,
      "outputs": []
    },
    {
      "cell_type": "markdown",
      "source": [
        "# Implement greedy search through 2-opt mutation"
      ],
      "metadata": {
        "id": "M6TuYDTHkYYH"
      }
    },
    {
      "cell_type": "code",
      "source": [
        "\n",
        "def two_opt(route): \n",
        "    \"\"\"\n",
        "      Implements the two-opt swap \n",
        "    \"\"\"\n",
        "    #print('Route', route)\n",
        "    distance_to_beat = 1/fitness(route) \n",
        "    #print('Distance', distance_to_beat)\n",
        "    for i in range(1,len(route)-2): \n",
        "        #print(i)\n",
        "        for k in range(i+1,len(route)): \n",
        "            #print(k)\n",
        "\n",
        "            # Computes a new route \n",
        "            new_route = np.concatenate((route[0:i],route[k:-len(route)+i-1:-1],route[k+1:len(route)]))\n",
        "            #print('Route after swapping', new_route)\n",
        "\n",
        "            # Checking distance\n",
        "            new_distance_travelled = 1/fitness(new_route)\n",
        "            if new_distance_travelled < distance_to_beat: \n",
        "                # If distance has improved, keep track of the new distance and update the route\n",
        "                route = new_route \n",
        "                distance_to_beat = new_distance_travelled \n",
        "\n",
        "    return route "
      ],
      "metadata": {
        "id": "V7bbkNkckhZE"
      },
      "execution_count": 42,
      "outputs": []
    },
    {
      "cell_type": "code",
      "source": [
        "def evolutionaryAlgorithmWithTwoOpt(cities):\n",
        "  N_Cities = len(cities)\n",
        "  print('N_Cities,', N_Cities)\n",
        "  # Convenient to work with representation of cities given by the key in the dictionary\n",
        "  cities_rep = range(1, N_Cities + 1)\n",
        "  # Stores in a dictionary the pair (index of the city: coordinates of the city)\n",
        "  cities_dictionary = map_index_to_city(cities)\n",
        "  print(cities_dictionary)\n",
        "  # Keeping track of useful statistics\n",
        "  avg_fitness = []\n",
        "  avg_distance = []\n",
        "  best_distance = []\n",
        "  for i in range(N_Experiments):\n",
        "\n",
        "    generation = []\n",
        "\n",
        "    for l in range(N_Pool):\n",
        "\n",
        "      # First step: Initializiation of the first generation\n",
        "      candidate = sampleSolution(cities_rep)\n",
        "      generation.append(candidate)\n",
        "      \n",
        "    \n",
        "    fit_gen = np.zeros(N_Generations)\n",
        "    dis_gen = np.zeros(N_Generations)\n",
        "    b_dis_gen = np.zeros(N_Generations)\n",
        "    count_dis = 0\n",
        "    best_track = 1000\n",
        "    for j in range(N_Generations):\n",
        "      print('Generation number ', j)\n",
        "      # Second step: Compute fitness for every sample\n",
        "      distance_travelled, fit_values = computeFitnessForGeneration(generation, N_Pool, cities_dictionary)\n",
        "\n",
        "      # Mimetic Algorithm\n",
        "      for route in generation:\n",
        "          route = two_opt(get_route_from_representation(route, cities_dictionary ))\n",
        "\n",
        "      # Keeping track of the statistics for plotting\n",
        "      fit_gen[j] = max(fit_values)\n",
        "      dis_gen[j] = min(distance_travelled)\n",
        "      b_dis_gen[j] = min(dis_gen[j], best_track)\n",
        "      best_track = b_dis_gen[j] \n",
        "\n",
        "      # Third step: Selecting the fittest as parents\n",
        "      parents = selectFittest(generation, fit_values)\n",
        "      \n",
        "      \n",
        "      # Fourth step: Replacing the parents with children\n",
        "      generation = generateChildren(parents, N_Pool)\n",
        "\n",
        "    avg_fitness.append(fit_gen)\n",
        "    avg_distance.append(dis_gen)\n",
        "    best_distance.append(b_dis_gen)\n",
        "\n",
        "  return avg_distance, avg_fitness, best_distance"
      ],
      "metadata": {
        "id": "V926wtVPHc_V"
      },
      "execution_count": 44,
      "outputs": []
    },
    {
      "cell_type": "code",
      "source": [
        "\n",
        "# Read from the txt file the city coordinates and store them into a np array\n",
        "dataset1 = np.loadtxt(\"file-tsp.txt\")\n",
        "\n",
        "distancem, fitnessm, bestdism = evolutionaryAlgorithmWithTwoOpt(dataset1)\n",
        "\n"
      ],
      "metadata": {
        "colab": {
          "base_uri": "https://localhost:8080/",
          "height": 544
        },
        "id": "Zh3hxSptpSif",
        "outputId": "484e9354-6775-4745-bbab-0c79099d40b5"
      },
      "execution_count": 45,
      "outputs": [
        {
          "output_type": "stream",
          "name": "stdout",
          "text": [
            "N_Cities, 50\n",
            "{1: array([ 0.2554, 18.2366]), 2: array([ 0.4339, 15.2476]), 3: array([0.7377, 8.3137]), 4: array([ 1.1354, 16.5638]), 5: array([ 1.582, 17.303]), 6: array([2.0913, 9.2924]), 7: array([ 2.2631, 17.3392]), 8: array([2.6373, 2.6425]), 9: array([ 3.004 , 19.5712]), 10: array([ 3.6684, 14.8018]), 11: array([ 3.863 , 13.7008]), 12: array([4.2065, 9.8224]), 13: array([4.8353, 2.0944]), 14: array([4.9785, 3.1596]), 15: array([ 5.3754, 17.6381]), 16: array([5.9425, 6.036 ]), 17: array([6.1451, 3.8132]), 18: array([ 6.7782, 11.0125]), 19: array([6.9223, 7.7819]), 20: array([7.5691, 0.9378]), 21: array([ 7.819 , 13.1697]), 22: array([8.3332, 5.9161]), 23: array([8.5872, 7.8303]), 24: array([ 9.1224, 14.5889]), 25: array([9.4076, 9.7166]), 26: array([9.7208, 8.1154]), 27: array([10.1662, 19.1705]), 28: array([10.7387,  2.009 ]), 29: array([10.9354,  5.1813]), 30: array([11.3707,  7.2406]), 31: array([11.7418, 13.6874]), 32: array([12.0526,  4.7186]), 33: array([12.6385, 12.1   ]), 34: array([13.095 , 13.6956]), 35: array([13.3533, 17.3524]), 36: array([13.8794,  3.9479]), 37: array([14.2674, 15.8651]), 38: array([14.552 , 17.2489]), 39: array([14.9737, 13.2245]), 40: array([15.2841,  1.4455]), 41: array([15.5761, 12.127 ]), 42: array([16.1313, 14.2029]), 43: array([16.4388, 16.0084]), 44: array([16.7821,  9.4334]), 45: array([17.3928, 12.9692]), 46: array([17.5139,  6.4828]), 47: array([17.9487,  7.5563]), 48: array([18.3958, 19.5112]), 49: array([18.9696, 19.3565]), 50: array([19.0928, 16.5453])}\n",
            "Generation number  0\n",
            "Generation number  1\n",
            "Generation number  2\n",
            "Generation number  3\n",
            "Generation number  4\n",
            "Generation number  5\n"
          ]
        },
        {
          "output_type": "error",
          "ename": "KeyboardInterrupt",
          "evalue": "ignored",
          "traceback": [
            "\u001b[0;31m---------------------------------------------------------------------------\u001b[0m",
            "\u001b[0;31mKeyboardInterrupt\u001b[0m                         Traceback (most recent call last)",
            "\u001b[0;32m<ipython-input-45-00edf6f048b5>\u001b[0m in \u001b[0;36m<module>\u001b[0;34m\u001b[0m\n\u001b[1;32m      2\u001b[0m \u001b[0mdataset1\u001b[0m \u001b[0;34m=\u001b[0m \u001b[0mnp\u001b[0m\u001b[0;34m.\u001b[0m\u001b[0mloadtxt\u001b[0m\u001b[0;34m(\u001b[0m\u001b[0;34m\"file-tsp.txt\"\u001b[0m\u001b[0;34m)\u001b[0m\u001b[0;34m\u001b[0m\u001b[0;34m\u001b[0m\u001b[0m\n\u001b[1;32m      3\u001b[0m \u001b[0;34m\u001b[0m\u001b[0m\n\u001b[0;32m----> 4\u001b[0;31m \u001b[0mdistancem\u001b[0m\u001b[0;34m,\u001b[0m \u001b[0mfitnessm\u001b[0m\u001b[0;34m,\u001b[0m \u001b[0mbestdism\u001b[0m \u001b[0;34m=\u001b[0m \u001b[0mevolutionaryAlgorithmWithTwoOpt\u001b[0m\u001b[0;34m(\u001b[0m\u001b[0mdataset1\u001b[0m\u001b[0;34m)\u001b[0m\u001b[0;34m\u001b[0m\u001b[0;34m\u001b[0m\u001b[0m\n\u001b[0m\u001b[1;32m      5\u001b[0m \u001b[0;34m\u001b[0m\u001b[0m\n",
            "\u001b[0;32m<ipython-input-44-f6e7dedbb4ee>\u001b[0m in \u001b[0;36mevolutionaryAlgorithmWithTwoOpt\u001b[0;34m(cities)\u001b[0m\n\u001b[1;32m     34\u001b[0m       \u001b[0;31m# Mimetic Algorithm\u001b[0m\u001b[0;34m\u001b[0m\u001b[0;34m\u001b[0m\u001b[0;34m\u001b[0m\u001b[0m\n\u001b[1;32m     35\u001b[0m       \u001b[0;32mfor\u001b[0m \u001b[0mroute\u001b[0m \u001b[0;32min\u001b[0m \u001b[0mgeneration\u001b[0m\u001b[0;34m:\u001b[0m\u001b[0;34m\u001b[0m\u001b[0;34m\u001b[0m\u001b[0m\n\u001b[0;32m---> 36\u001b[0;31m           \u001b[0mroute\u001b[0m \u001b[0;34m=\u001b[0m \u001b[0mtwo_opt\u001b[0m\u001b[0;34m(\u001b[0m\u001b[0mget_route_from_representation\u001b[0m\u001b[0;34m(\u001b[0m\u001b[0mroute\u001b[0m\u001b[0;34m,\u001b[0m \u001b[0mcities_dictionary\u001b[0m \u001b[0;34m)\u001b[0m\u001b[0;34m)\u001b[0m\u001b[0;34m\u001b[0m\u001b[0;34m\u001b[0m\u001b[0m\n\u001b[0m\u001b[1;32m     37\u001b[0m \u001b[0;34m\u001b[0m\u001b[0m\n\u001b[1;32m     38\u001b[0m       \u001b[0;31m# Keeping track of the statistics for plotting\u001b[0m\u001b[0;34m\u001b[0m\u001b[0;34m\u001b[0m\u001b[0;34m\u001b[0m\u001b[0m\n",
            "\u001b[0;32m<ipython-input-42-7c7bfe1b8a28>\u001b[0m in \u001b[0;36mtwo_opt\u001b[0;34m(route)\u001b[0m\n\u001b[1;32m     19\u001b[0m \u001b[0;34m\u001b[0m\u001b[0m\n\u001b[1;32m     20\u001b[0m             \u001b[0;31m# Checking distance\u001b[0m\u001b[0;34m\u001b[0m\u001b[0;34m\u001b[0m\u001b[0;34m\u001b[0m\u001b[0m\n\u001b[0;32m---> 21\u001b[0;31m             \u001b[0mnew_distance_travelled\u001b[0m \u001b[0;34m=\u001b[0m \u001b[0;36m1\u001b[0m\u001b[0;34m/\u001b[0m\u001b[0mfitness\u001b[0m\u001b[0;34m(\u001b[0m\u001b[0mnew_route\u001b[0m\u001b[0;34m)\u001b[0m\u001b[0;34m\u001b[0m\u001b[0;34m\u001b[0m\u001b[0m\n\u001b[0m\u001b[1;32m     22\u001b[0m             \u001b[0;32mif\u001b[0m \u001b[0mnew_distance_travelled\u001b[0m \u001b[0;34m<\u001b[0m \u001b[0mdistance_to_beat\u001b[0m\u001b[0;34m:\u001b[0m\u001b[0;34m\u001b[0m\u001b[0;34m\u001b[0m\u001b[0m\n\u001b[1;32m     23\u001b[0m                 \u001b[0;31m# If distance has improved, keep track of the new distance and update the route\u001b[0m\u001b[0;34m\u001b[0m\u001b[0;34m\u001b[0m\u001b[0;34m\u001b[0m\u001b[0m\n",
            "\u001b[0;32m<ipython-input-7-35d1c5fc9776>\u001b[0m in \u001b[0;36mfitness\u001b[0;34m(route)\u001b[0m\n\u001b[1;32m      8\u001b[0m   \u001b[0mdistance_route\u001b[0m \u001b[0;34m=\u001b[0m \u001b[0;36m0\u001b[0m\u001b[0;34m\u001b[0m\u001b[0;34m\u001b[0m\u001b[0m\n\u001b[1;32m      9\u001b[0m   \u001b[0;32mfor\u001b[0m \u001b[0m_\u001b[0m \u001b[0;32min\u001b[0m \u001b[0mrange\u001b[0m\u001b[0;34m(\u001b[0m\u001b[0mlen\u001b[0m\u001b[0;34m(\u001b[0m\u001b[0mroute\u001b[0m\u001b[0;34m)\u001b[0m\u001b[0;34m-\u001b[0m\u001b[0;36m1\u001b[0m\u001b[0;34m)\u001b[0m\u001b[0;34m:\u001b[0m\u001b[0;34m\u001b[0m\u001b[0;34m\u001b[0m\u001b[0m\n\u001b[0;32m---> 10\u001b[0;31m     \u001b[0mdistance_route\u001b[0m \u001b[0;34m+=\u001b[0m \u001b[0mdistance\u001b[0m\u001b[0;34m(\u001b[0m\u001b[0mroute\u001b[0m\u001b[0;34m[\u001b[0m\u001b[0m_\u001b[0m\u001b[0;34m]\u001b[0m\u001b[0;34m,\u001b[0m \u001b[0mroute\u001b[0m\u001b[0;34m[\u001b[0m\u001b[0m_\u001b[0m\u001b[0;34m+\u001b[0m\u001b[0;36m1\u001b[0m\u001b[0;34m]\u001b[0m\u001b[0;34m)\u001b[0m\u001b[0;34m\u001b[0m\u001b[0;34m\u001b[0m\u001b[0m\n\u001b[0m\u001b[1;32m     11\u001b[0m   \u001b[0;31m#print('Total distance travelled is: ', distance_route)\u001b[0m\u001b[0;34m\u001b[0m\u001b[0;34m\u001b[0m\u001b[0;34m\u001b[0m\u001b[0m\n\u001b[1;32m     12\u001b[0m   \u001b[0;31m# the fitness is defined as the inverse of the distance\u001b[0m\u001b[0;34m\u001b[0m\u001b[0;34m\u001b[0m\u001b[0;34m\u001b[0m\u001b[0m\n",
            "\u001b[0;32m<ipython-input-6-280b7284c138>\u001b[0m in \u001b[0;36mdistance\u001b[0;34m(city1, city2)\u001b[0m\n\u001b[1;32m      7\u001b[0m     \u001b[0mx_1\u001b[0m \u001b[0;34m=\u001b[0m \u001b[0mcity1\u001b[0m\u001b[0;34m[\u001b[0m\u001b[0;36m0\u001b[0m\u001b[0;34m]\u001b[0m\u001b[0;34m\u001b[0m\u001b[0;34m\u001b[0m\u001b[0m\n\u001b[1;32m      8\u001b[0m     \u001b[0my_1\u001b[0m \u001b[0;34m=\u001b[0m \u001b[0mcity1\u001b[0m\u001b[0;34m[\u001b[0m\u001b[0;36m1\u001b[0m\u001b[0;34m]\u001b[0m\u001b[0;34m\u001b[0m\u001b[0;34m\u001b[0m\u001b[0m\n\u001b[0;32m----> 9\u001b[0;31m     \u001b[0mx_2\u001b[0m \u001b[0;34m=\u001b[0m \u001b[0mcity2\u001b[0m\u001b[0;34m[\u001b[0m\u001b[0;36m0\u001b[0m\u001b[0;34m]\u001b[0m\u001b[0;34m\u001b[0m\u001b[0;34m\u001b[0m\u001b[0m\n\u001b[0m\u001b[1;32m     10\u001b[0m     \u001b[0my_2\u001b[0m \u001b[0;34m=\u001b[0m \u001b[0mcity2\u001b[0m\u001b[0;34m[\u001b[0m\u001b[0;36m1\u001b[0m\u001b[0;34m]\u001b[0m\u001b[0;34m\u001b[0m\u001b[0;34m\u001b[0m\u001b[0m\n\u001b[1;32m     11\u001b[0m     \u001b[0mdistance\u001b[0m \u001b[0;34m=\u001b[0m \u001b[0mnp\u001b[0m\u001b[0;34m.\u001b[0m\u001b[0msqrt\u001b[0m\u001b[0;34m(\u001b[0m\u001b[0;34m(\u001b[0m\u001b[0mx_1\u001b[0m\u001b[0;34m-\u001b[0m\u001b[0mx_2\u001b[0m\u001b[0;34m)\u001b[0m\u001b[0;34m**\u001b[0m\u001b[0;36m2\u001b[0m\u001b[0;34m+\u001b[0m\u001b[0;34m(\u001b[0m\u001b[0my_1\u001b[0m\u001b[0;34m-\u001b[0m\u001b[0my_2\u001b[0m\u001b[0;34m)\u001b[0m\u001b[0;34m**\u001b[0m\u001b[0;36m2\u001b[0m\u001b[0;34m)\u001b[0m\u001b[0;34m\u001b[0m\u001b[0;34m\u001b[0m\u001b[0m\n",
            "\u001b[0;31mKeyboardInterrupt\u001b[0m: "
          ]
        }
      ]
    },
    {
      "cell_type": "markdown",
      "source": [
        "# Simulations"
      ],
      "metadata": {
        "id": "8lXZFMLzErgQ"
      }
    },
    {
      "cell_type": "code",
      "source": [
        "# Initializing parameters of the simulations\n",
        "N_Experiments = 10\n",
        "N_Generations = 1500\n",
        "N_Pool = 100"
      ],
      "metadata": {
        "id": "jO0koYrG4_tc"
      },
      "execution_count": 2,
      "outputs": []
    },
    {
      "cell_type": "code",
      "source": [
        "# Simulations for first dataset\n",
        "\n",
        "# Read from the txt file the city coordinates and store them into a np array\n",
        "dataset1 = np.loadtxt(\"file-tsp.txt\")\n",
        "\n",
        "\n",
        "distance1, fitness1, bestdis1 = evolutionaryAlgorithm(dataset1)\n",
        "distancem, fitnessm, bestdism = evolutionaryAlgorithmWithTwoOpt(dataset1)"
      ],
      "metadata": {
        "colab": {
          "base_uri": "https://localhost:8080/"
        },
        "id": "ihx3A55oK_RW",
        "outputId": "722191f8-a209-4369-8897-0380f3f492b5"
      },
      "execution_count": null,
      "outputs": [
        {
          "output_type": "stream",
          "name": "stdout",
          "text": [
            "N_Cities, 50\n",
            "{1: array([ 0.2554, 18.2366]), 2: array([ 0.4339, 15.2476]), 3: array([0.7377, 8.3137]), 4: array([ 1.1354, 16.5638]), 5: array([ 1.582, 17.303]), 6: array([2.0913, 9.2924]), 7: array([ 2.2631, 17.3392]), 8: array([2.6373, 2.6425]), 9: array([ 3.004 , 19.5712]), 10: array([ 3.6684, 14.8018]), 11: array([ 3.863 , 13.7008]), 12: array([4.2065, 9.8224]), 13: array([4.8353, 2.0944]), 14: array([4.9785, 3.1596]), 15: array([ 5.3754, 17.6381]), 16: array([5.9425, 6.036 ]), 17: array([6.1451, 3.8132]), 18: array([ 6.7782, 11.0125]), 19: array([6.9223, 7.7819]), 20: array([7.5691, 0.9378]), 21: array([ 7.819 , 13.1697]), 22: array([8.3332, 5.9161]), 23: array([8.5872, 7.8303]), 24: array([ 9.1224, 14.5889]), 25: array([9.4076, 9.7166]), 26: array([9.7208, 8.1154]), 27: array([10.1662, 19.1705]), 28: array([10.7387,  2.009 ]), 29: array([10.9354,  5.1813]), 30: array([11.3707,  7.2406]), 31: array([11.7418, 13.6874]), 32: array([12.0526,  4.7186]), 33: array([12.6385, 12.1   ]), 34: array([13.095 , 13.6956]), 35: array([13.3533, 17.3524]), 36: array([13.8794,  3.9479]), 37: array([14.2674, 15.8651]), 38: array([14.552 , 17.2489]), 39: array([14.9737, 13.2245]), 40: array([15.2841,  1.4455]), 41: array([15.5761, 12.127 ]), 42: array([16.1313, 14.2029]), 43: array([16.4388, 16.0084]), 44: array([16.7821,  9.4334]), 45: array([17.3928, 12.9692]), 46: array([17.5139,  6.4828]), 47: array([17.9487,  7.5563]), 48: array([18.3958, 19.5112]), 49: array([18.9696, 19.3565]), 50: array([19.0928, 16.5453])}\n"
          ]
        }
      ]
    },
    {
      "cell_type": "code",
      "source": [
        "t = np.arange(0,N_Generations)\n",
        "for i in range(N_Experiments):\n",
        "    plt.plot(t, bestdis1[i], label=f'run {i+1}')\n",
        "plt.title('Simple EA for Dataset 1 ')\n",
        "plt.xlabel('Generations')\n",
        "plt.ylabel('Distance')\n",
        "plt.legend()"
      ],
      "metadata": {
        "colab": {
          "base_uri": "https://localhost:8080/",
          "height": 313
        },
        "id": "fYe6jb0DDsAu",
        "outputId": "2f7bd201-23e1-46d9-9f03-fbb6f8c5ada5"
      },
      "execution_count": null,
      "outputs": [
        {
          "output_type": "execute_result",
          "data": {
            "text/plain": [
              "<matplotlib.legend.Legend at 0x7ff4b4097520>"
            ]
          },
          "metadata": {},
          "execution_count": 17
        },
        {
          "output_type": "display_data",
          "data": {
            "text/plain": [
              "<Figure size 432x288 with 1 Axes>"
            ],
            "image/png": "[encoded data removed]"
          },
          "metadata": {
            "needs_background": "light"
          }
        }
      ]
    },
    {
      "cell_type": "code",
      "source": [
        "t = np.arange(0,N_Generations)\n",
        "# add for cycle for plotting\n",
        "for i in range(N_Experiments):\n",
        "    plt.plot(t, bestdism[i], label=f'run {i+1}')\n",
        "plt.title('EA with 2-opt for Dataset 1 ')\n",
        "plt.xlabel('Generations')\n",
        "plt.ylabel('Distance')\n",
        "plt.legend()"
      ],
      "metadata": {
        "id": "1gq1MbufHc-e"
      },
      "execution_count": null,
      "outputs": []
    }
  ]
}