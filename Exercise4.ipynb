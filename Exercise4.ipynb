{
 "cells": [
  {
   "cell_type": "code",
   "execution_count": 1,
   "id": "44a57bf0",
   "metadata": {},
   "outputs": [
    {
     "name": "stdout",
     "output_type": "stream",
     "text": [
      "Defaulting to user installation because normal site-packages is not writeable\n",
      "Requirement already satisfied: python-Levenshtein in /home/patrickvanbeurden/.local/lib/python3.10/site-packages (0.20.9)\n",
      "Requirement already satisfied: Levenshtein==0.20.9 in /home/patrickvanbeurden/.local/lib/python3.10/site-packages (from python-Levenshtein) (0.20.9)\n",
      "Requirement already satisfied: rapidfuzz<3.0.0,>=2.3.0 in /home/patrickvanbeurden/.local/lib/python3.10/site-packages (from Levenshtein==0.20.9->python-Levenshtein) (2.13.7)\n"
     ]
    }
   ],
   "source": [
    "!pip install python-Levenshtein"
   ]
  },
  {
   "cell_type": "code",
   "execution_count": 2,
   "id": "6bb03f49",
   "metadata": {},
   "outputs": [],
   "source": [
    "import random\n",
    "import Levenshtein\n",
    "import matplotlib.pyplot as plt\n",
    "import numpy as np"
   ]
  },
  {
   "cell_type": "code",
   "execution_count": 3,
   "id": "1ea1bf85",
   "metadata": {},
   "outputs": [],
   "source": [
    "alphabet = [\n",
    "    'a', 'b', 'c', 'd', 'e', 'f', 'g',\n",
    "    'h', 'i', 'j', 'k', 'l', 'm', 'n',\n",
    "    'o', 'p', 'q', 'r', 's', 't', 'u',\n",
    "    'v', 'w', 'x', 'y', 'z', ' '\n",
    "]"
   ]
  },
  {
   "cell_type": "code",
   "execution_count": 4,
   "id": "098b7f46",
   "metadata": {},
   "outputs": [],
   "source": [
    "def random_string(l, Sigma):\n",
    "    string = \"\"\n",
    "    for i in range(l):\n",
    "        value = random.choice(Sigma)\n",
    "        string += value\n",
    "    return string"
   ]
  },
  {
   "cell_type": "code",
   "execution_count": 5,
   "id": "d72551a4",
   "metadata": {},
   "outputs": [],
   "source": [
    "def initialize_population(N, l, Sigma):\n",
    "    return [random_string(l, Sigma) for x in range(0, N)]"
   ]
  },
  {
   "cell_type": "code",
   "execution_count": 6,
   "id": "85133efd",
   "metadata": {},
   "outputs": [],
   "source": [
    "def fraction_correct_characters(string, target):\n",
    "    assert len(string) == len(target)\n",
    "    \n",
    "    correct = 0\n",
    "    \n",
    "    for i in range(0, len(string)):\n",
    "        if string[i] == target[i]:\n",
    "            correct += 1 \n",
    "    \n",
    "    return correct / len(target)"
   ]
  },
  {
   "cell_type": "code",
   "execution_count": 7,
   "id": "0952928e",
   "metadata": {},
   "outputs": [],
   "source": [
    "def levenshtein_distance(string, target):\n",
    "    assert len(string) == len(target)\n",
    "    \n",
    "    return Levenshtein.distance(string, target)"
   ]
  },
  {
   "cell_type": "code",
   "execution_count": 8,
   "id": "62b8c44d",
   "metadata": {},
   "outputs": [],
   "source": [
    "def calculate_fitness(string, target, fit_fn):\n",
    "    if fit_fn == 'frac':\n",
    "        return fraction_correct_characters(string, target)\n",
    "    elif fit_fn == 'lev':\n",
    "        return levenshtein_distance(string, target)\n",
    "    else:\n",
    "        return fraction_correct_characters(string, target)"
   ]
  },
  {
   "cell_type": "code",
   "execution_count": 9,
   "id": "ee9927ce",
   "metadata": {},
   "outputs": [],
   "source": [
    "def select_parent(pop, pop_fit, K, fit_fn):\n",
    "    sel_pool = random.sample(list(zip(pop_fit, range(0, len(pop_fit)))), K)\n",
    "    \n",
    "    ind = None\n",
    "    if fit_fn == 'frac':\n",
    "        _, ind = max(sel_pool)\n",
    "    elif fit_fn == 'lev':\n",
    "        _, ind = min(sel_pool)\n",
    "    \n",
    "    return pop[ind]"
   ]
  },
  {
   "cell_type": "code",
   "execution_count": 10,
   "id": "79f612bd",
   "metadata": {},
   "outputs": [],
   "source": [
    "def cross_over(str1, str2):\n",
    "    assert len(str1) == len(str2)\n",
    "    \n",
    "    ind_to_split = random.randint(0, len(str1) - 1)\n",
    "    \n",
    "    return str1[:ind_to_split] + str2[ind_to_split:], str2[:ind_to_split] + str1[ind_to_split:]"
   ]
  },
  {
   "cell_type": "code",
   "execution_count": 11,
   "id": "51a9f10f",
   "metadata": {},
   "outputs": [],
   "source": [
    "def mutate(string, mu, Sigma):\n",
    "    x = \"\"\n",
    "    for i in range(0, len(string)):\n",
    "        random_number = random.random()\n",
    "        if mu > random_number:\n",
    "            x += random_string(1, Sigma)\n",
    "        else:\n",
    "            x += string[i]\n",
    "    \n",
    "    return x"
   ]
  },
  {
   "cell_type": "code",
   "execution_count": 12,
   "id": "dbe52c84",
   "metadata": {},
   "outputs": [],
   "source": [
    "def step(pop, target, K, mu, Sigma, fit_fn):\n",
    "    next_pop = []\n",
    "    best_fit = None\n",
    "    \n",
    "    # calculate fitness of individuals in current population\n",
    "    pop_fit = [calculate_fitness(x, target, fit_fn) for x in pop]\n",
    "    avg_fit = sum(pop_fit) / len(pop_fit)\n",
    "    \n",
    "    if fit_fn == 'frac':\n",
    "        best_fit = max(pop_fit)\n",
    "    elif fit_fn == 'lev':\n",
    "        best_fit = min(pop_fit)\n",
    "    \n",
    "    # create next population\n",
    "    while(len(next_pop) != len(pop)):\n",
    "        parent1 = select_parent(pop, pop_fit, K, fit_fn)\n",
    "        parent2 = select_parent(pop, pop_fit, K, fit_fn)\n",
    "        \n",
    "        child1, child2 = cross_over(parent1, parent2)\n",
    "        next_pop.append(mutate(child1, mu, Sigma))\n",
    "        next_pop.append(mutate(child2, mu, Sigma))\n",
    "    \n",
    "    return next_pop, avg_fit, best_fit"
   ]
  },
  {
   "cell_type": "code",
   "execution_count": 13,
   "id": "be98660b",
   "metadata": {},
   "outputs": [],
   "source": [
    "def GA(target, K, mu, Sigma, fit_fn = 'frac', max_iter=1000):\n",
    "    l = len(target)\n",
    "    p_c = 1.0\n",
    "    N = 1000\n",
    "    iteration = 0\n",
    "    \n",
    "    pop = initialize_population(N, l, Sigma)\n",
    "    \n",
    "    while(not target in pop and iteration < max_iter):\n",
    "        pop, avg_fit, best_fit = step(pop, target, K, mu, Sigma, fit_fn)\n",
    "        iteration += 1\n",
    "        #print(\"Iter: {}, avg fit: {}, best fit: {}\".format(iteration, avg_fit, best_fit))\n",
    "        \n",
    "    return iteration"
   ]
  },
  {
   "cell_type": "code",
   "execution_count": 14,
   "id": "e1d8aa5f",
   "metadata": {},
   "outputs": [],
   "source": [
    "def create_hist(target, K, mu, Sigma, n_runs=20):\n",
    "    generations = []\n",
    "    \n",
    "    for _ in range(0,20):\n",
    "        generations.append(GA(target, K, mu, Sigma))\n",
    "    \n",
    "    plt.boxplot(generations, meanline=True, vert=False, labels=[20])\n",
    "    plt.xlabel('Number of generations (t_fin)')\n",
    "    plt.ylabel('Number of runs')\n",
    "    plt.title('Distribution of t_fin, K = {}, mu = {}'.format(K, mu))\n",
    "    plt.show()"
   ]
  },
  {
   "cell_type": "code",
   "execution_count": null,
   "id": "cdd35e70",
   "metadata": {},
   "outputs": [],
   "source": [
    "def tune_mu(target, K, Sigma, num_steps=100, n_runs=20):\n",
    "    mus = np.arange(num_steps, dtype=float) / float(num_steps*10) \n",
    "    means = np.zeros(num_steps, dtype=float)\n",
    "    stds = np.zeros(num_steps, dtype=float)\n",
    "    for j, mu in enumerate(mus):\n",
    "        gens = np.zeros(n_runs)\n",
    "        for i in range(0, n_runs):\n",
    "            gens[i] = GA(target, K, mu, Sigma)\n",
    "        means[j] = np.mean(gens)\n",
    "        stds[j] = np.std(gens)\n",
    "        print(\"Simulation ({}/{}): [mu: {}, t_avg: {}, t_std: {}, n_runs: {}]\".format(j+1, num_steps, mu, means[j], stds[j], n_runs))\n",
    "    \n",
    "    plt.errorbar(mus, means, stds, linestyle='None')\n",
    "    plt.xlabel('Mutation rate (mu)')\n",
    "    plt.ylabel('Number of generations (t_fin)')\n",
    "    plt.show()"
   ]
  },
  {
   "cell_type": "code",
   "execution_count": 16,
   "id": "081c1c9f",
   "metadata": {},
   "outputs": [],
   "source": [
    "#create_hist(\"hello group one\", 2, 0.01, alphabet)"
   ]
  },
  {
   "cell_type": "code",
   "execution_count": 17,
   "id": "a738c1b6",
   "metadata": {},
   "outputs": [],
   "source": [
    "#create_hist(\"hello group one\", 2, 0.0, alphabet)"
   ]
  },
  {
   "cell_type": "code",
   "execution_count": 18,
   "id": "1d00b147",
   "metadata": {},
   "outputs": [],
   "source": [
    "#create_hist(\"hello group one\", 2, 0.1, alphabet)"
   ]
  },
  {
   "cell_type": "code",
   "execution_count": 19,
   "id": "c170e8a9",
   "metadata": {},
   "outputs": [
    {
     "name": "stdout",
     "output_type": "stream",
     "text": [
      "Simulation (1/100): [mu: 0.0, t_avg: 18.0, t_std: 1.140175425099138]\n",
      "Simulation (2/100): [mu: 0.001, t_avg: 17.9, t_std: 1.1789826122551597]\n",
      "Simulation (3/100): [mu: 0.002, t_avg: 18.1, t_std: 1.2609520212918492]\n",
      "Simulation (4/100): [mu: 0.003, t_avg: 17.9, t_std: 1.2206555615733703]\n",
      "Simulation (5/100): [mu: 0.004, t_avg: 17.9, t_std: 1.1357816691600549]\n",
      "Simulation (6/100): [mu: 0.005, t_avg: 18.1, t_std: 1.044030650891055]\n",
      "Simulation (7/100): [mu: 0.006, t_avg: 18.25, t_std: 1.6695807857064]\n",
      "Simulation (8/100): [mu: 0.007, t_avg: 18.05, t_std: 1.116915395184434]\n",
      "Simulation (9/100): [mu: 0.008, t_avg: 18.05, t_std: 1.0234744745229363]\n",
      "Simulation (10/100): [mu: 0.009, t_avg: 18.7, t_std: 1.3076696830622023]\n",
      "Simulation (11/100): [mu: 0.01, t_avg: 18.45, t_std: 1.3219304066402287]\n",
      "Simulation (12/100): [mu: 0.011, t_avg: 18.65, t_std: 1.4585952145814822]\n",
      "Simulation (13/100): [mu: 0.012, t_avg: 18.5, t_std: 1.2041594578792296]\n",
      "Simulation (14/100): [mu: 0.013, t_avg: 18.55, t_std: 1.1608186766243902]\n",
      "Simulation (15/100): [mu: 0.014, t_avg: 18.95, t_std: 0.9205976319760985]\n",
      "Simulation (16/100): [mu: 0.015, t_avg: 18.8, t_std: 0.812403840463596]\n",
      "Simulation (17/100): [mu: 0.016, t_avg: 19.25, t_std: 1.1346805717910218]\n",
      "Simulation (18/100): [mu: 0.017, t_avg: 19.15, t_std: 1.7399712641305318]\n",
      "Simulation (19/100): [mu: 0.018, t_avg: 19.6, t_std: 1.593737745050923]\n",
      "Simulation (20/100): [mu: 0.019, t_avg: 19.35, t_std: 1.4239030865898146]\n",
      "Simulation (21/100): [mu: 0.02, t_avg: 19.5, t_std: 1.161895003862225]\n",
      "Simulation (22/100): [mu: 0.021, t_avg: 19.25, t_std: 1.5451537140362444]\n",
      "Simulation (23/100): [mu: 0.022, t_avg: 19.8, t_std: 1.16619037896906]\n",
      "Simulation (24/100): [mu: 0.023, t_avg: 18.9, t_std: 1.5459624833740306]\n",
      "Simulation (25/100): [mu: 0.024, t_avg: 19.15, t_std: 1.5256146302392357]\n",
      "Simulation (26/100): [mu: 0.025, t_avg: 19.6, t_std: 1.2806248474865698]\n",
      "Simulation (27/100): [mu: 0.026, t_avg: 19.65, t_std: 1.4585952145814822]\n",
      "Simulation (28/100): [mu: 0.027, t_avg: 19.75, t_std: 1.6085707942145413]\n",
      "Simulation (29/100): [mu: 0.028, t_avg: 19.95, t_std: 1.2439855304624732]\n",
      "Simulation (30/100): [mu: 0.029, t_avg: 20.2, t_std: 1.469693845669907]\n",
      "Simulation (31/100): [mu: 0.03, t_avg: 20.3, t_std: 1.3453624047073711]\n",
      "Simulation (32/100): [mu: 0.031, t_avg: 20.65, t_std: 0.9096702699330126]\n",
      "Simulation (33/100): [mu: 0.032, t_avg: 20.3, t_std: 1.9261360284258222]\n",
      "Simulation (34/100): [mu: 0.033, t_avg: 20.75, t_std: 1.1346805717910218]\n",
      "Simulation (35/100): [mu: 0.034, t_avg: 20.2, t_std: 1.98997487421324]\n",
      "Simulation (36/100): [mu: 0.035, t_avg: 21.6, t_std: 1.4628738838327793]\n",
      "Simulation (37/100): [mu: 0.036, t_avg: 21.15, t_std: 1.49248115565993]\n",
      "Simulation (38/100): [mu: 0.037, t_avg: 22.05, t_std: 1.023474474522936]\n",
      "Simulation (39/100): [mu: 0.038, t_avg: 21.55, t_std: 1.5960889699512368]\n",
      "Simulation (40/100): [mu: 0.039, t_avg: 21.2, t_std: 1.16619037896906]\n",
      "Simulation (41/100): [mu: 0.04, t_avg: 21.45, t_std: 1.909842925478428]\n",
      "Simulation (42/100): [mu: 0.041, t_avg: 21.45, t_std: 1.909842925478428]\n",
      "Simulation (43/100): [mu: 0.042, t_avg: 21.9, t_std: 1.6093476939431077]\n",
      "Simulation (44/100): [mu: 0.043, t_avg: 22.15, t_std: 1.2757350822173075]\n",
      "Simulation (45/100): [mu: 0.044, t_avg: 22.7, t_std: 1.6763054614240211]\n",
      "Simulation (46/100): [mu: 0.045, t_avg: 22.5, t_std: 2.355843797877949]\n",
      "Simulation (47/100): [mu: 0.046, t_avg: 22.35, t_std: 1.7965244223221684]\n",
      "Simulation (48/100): [mu: 0.047, t_avg: 22.6, t_std: 1.462873883832779]\n",
      "Simulation (49/100): [mu: 0.048, t_avg: 22.6, t_std: 2.083266665599966]\n",
      "Simulation (50/100): [mu: 0.049, t_avg: 22.65, t_std: 2.308137777516758]\n",
      "Simulation (51/100): [mu: 0.05, t_avg: 23.75, t_std: 1.9716744153130354]\n",
      "Simulation (52/100): [mu: 0.051, t_avg: 23.55, t_std: 2.0850659461993044]\n",
      "Simulation (53/100): [mu: 0.052, t_avg: 24.3, t_std: 1.791647286716892]\n",
      "Simulation (54/100): [mu: 0.053, t_avg: 24.25, t_std: 1.9716744153130354]\n",
      "Simulation (55/100): [mu: 0.054, t_avg: 24.45, t_std: 1.935846068260594]\n",
      "Simulation (56/100): [mu: 0.055, t_avg: 23.55, t_std: 1.8296174463531985]\n",
      "Simulation (57/100): [mu: 0.056, t_avg: 25.15, t_std: 1.8241436346954698]\n"
     ]
    },
    {
     "ename": "KeyboardInterrupt",
     "evalue": "",
     "output_type": "error",
     "traceback": [
      "\u001b[0;31m---------------------------------------------------------------------------\u001b[0m",
      "\u001b[0;31mKeyboardInterrupt\u001b[0m                         Traceback (most recent call last)",
      "Cell \u001b[0;32mIn [19], line 1\u001b[0m\n\u001b[0;32m----> 1\u001b[0m \u001b[43mtune_mu\u001b[49m\u001b[43m(\u001b[49m\u001b[38;5;124;43m\"\u001b[39;49m\u001b[38;5;124;43mhello group one\u001b[39;49m\u001b[38;5;124;43m\"\u001b[39;49m\u001b[43m,\u001b[49m\u001b[43m \u001b[49m\u001b[38;5;241;43m2\u001b[39;49m\u001b[43m,\u001b[49m\u001b[43m \u001b[49m\u001b[43malphabet\u001b[49m\u001b[43m)\u001b[49m\n",
      "Cell \u001b[0;32mIn [15], line 8\u001b[0m, in \u001b[0;36mtune_mu\u001b[0;34m(target, K, Sigma, num_steps, n_runs)\u001b[0m\n\u001b[1;32m      6\u001b[0m gens \u001b[38;5;241m=\u001b[39m np\u001b[38;5;241m.\u001b[39mzeros(n_runs)\n\u001b[1;32m      7\u001b[0m \u001b[38;5;28;01mfor\u001b[39;00m i \u001b[38;5;129;01min\u001b[39;00m \u001b[38;5;28mrange\u001b[39m(\u001b[38;5;241m0\u001b[39m, n_runs):\n\u001b[0;32m----> 8\u001b[0m     gens[i] \u001b[38;5;241m=\u001b[39m \u001b[43mGA\u001b[49m\u001b[43m(\u001b[49m\u001b[43mtarget\u001b[49m\u001b[43m,\u001b[49m\u001b[43m \u001b[49m\u001b[43mK\u001b[49m\u001b[43m,\u001b[49m\u001b[43m \u001b[49m\u001b[43mmu\u001b[49m\u001b[43m,\u001b[49m\u001b[43m \u001b[49m\u001b[43mSigma\u001b[49m\u001b[43m)\u001b[49m\n\u001b[1;32m      9\u001b[0m means[j] \u001b[38;5;241m=\u001b[39m np\u001b[38;5;241m.\u001b[39mmean(gens)\n\u001b[1;32m     10\u001b[0m stds[j] \u001b[38;5;241m=\u001b[39m np\u001b[38;5;241m.\u001b[39mstd(gens)\n",
      "Cell \u001b[0;32mIn [13], line 10\u001b[0m, in \u001b[0;36mGA\u001b[0;34m(target, K, mu, Sigma, fit_fn, max_iter)\u001b[0m\n\u001b[1;32m      7\u001b[0m pop \u001b[38;5;241m=\u001b[39m initialize_population(N, l, Sigma)\n\u001b[1;32m      9\u001b[0m \u001b[38;5;28;01mwhile\u001b[39;00m(\u001b[38;5;129;01mnot\u001b[39;00m target \u001b[38;5;129;01min\u001b[39;00m pop \u001b[38;5;129;01mand\u001b[39;00m iteration \u001b[38;5;241m<\u001b[39m max_iter):\n\u001b[0;32m---> 10\u001b[0m     pop, avg_fit, best_fit \u001b[38;5;241m=\u001b[39m \u001b[43mstep\u001b[49m\u001b[43m(\u001b[49m\u001b[43mpop\u001b[49m\u001b[43m,\u001b[49m\u001b[43m \u001b[49m\u001b[43mtarget\u001b[49m\u001b[43m,\u001b[49m\u001b[43m \u001b[49m\u001b[43mK\u001b[49m\u001b[43m,\u001b[49m\u001b[43m \u001b[49m\u001b[43mmu\u001b[49m\u001b[43m,\u001b[49m\u001b[43m \u001b[49m\u001b[43mSigma\u001b[49m\u001b[43m,\u001b[49m\u001b[43m \u001b[49m\u001b[43mfit_fn\u001b[49m\u001b[43m)\u001b[49m\n\u001b[1;32m     11\u001b[0m     iteration \u001b[38;5;241m+\u001b[39m\u001b[38;5;241m=\u001b[39m \u001b[38;5;241m1\u001b[39m\n\u001b[1;32m     12\u001b[0m     \u001b[38;5;66;03m#print(\"Iter: {}, avg fit: {}, best fit: {}\".format(iteration, avg_fit, best_fit))\u001b[39;00m\n",
      "Cell \u001b[0;32mIn [12], line 17\u001b[0m, in \u001b[0;36mstep\u001b[0;34m(pop, target, K, mu, Sigma, fit_fn)\u001b[0m\n\u001b[1;32m     15\u001b[0m \u001b[38;5;28;01mwhile\u001b[39;00m(\u001b[38;5;28mlen\u001b[39m(next_pop) \u001b[38;5;241m!=\u001b[39m \u001b[38;5;28mlen\u001b[39m(pop)):\n\u001b[1;32m     16\u001b[0m     parent1 \u001b[38;5;241m=\u001b[39m select_parent(pop, pop_fit, K, fit_fn)\n\u001b[0;32m---> 17\u001b[0m     parent2 \u001b[38;5;241m=\u001b[39m \u001b[43mselect_parent\u001b[49m\u001b[43m(\u001b[49m\u001b[43mpop\u001b[49m\u001b[43m,\u001b[49m\u001b[43m \u001b[49m\u001b[43mpop_fit\u001b[49m\u001b[43m,\u001b[49m\u001b[43m \u001b[49m\u001b[43mK\u001b[49m\u001b[43m,\u001b[49m\u001b[43m \u001b[49m\u001b[43mfit_fn\u001b[49m\u001b[43m)\u001b[49m\n\u001b[1;32m     19\u001b[0m     child1, child2 \u001b[38;5;241m=\u001b[39m cross_over(parent1, parent2)\n\u001b[1;32m     20\u001b[0m     next_pop\u001b[38;5;241m.\u001b[39mappend(mutate(child1, mu, Sigma))\n",
      "Cell \u001b[0;32mIn [9], line 2\u001b[0m, in \u001b[0;36mselect_parent\u001b[0;34m(pop, pop_fit, K, fit_fn)\u001b[0m\n\u001b[1;32m      1\u001b[0m \u001b[38;5;28;01mdef\u001b[39;00m \u001b[38;5;21mselect_parent\u001b[39m(pop, pop_fit, K, fit_fn):\n\u001b[0;32m----> 2\u001b[0m     sel_pool \u001b[38;5;241m=\u001b[39m \u001b[43mrandom\u001b[49m\u001b[38;5;241;43m.\u001b[39;49m\u001b[43msample\u001b[49m\u001b[43m(\u001b[49m\u001b[38;5;28;43mlist\u001b[39;49m\u001b[43m(\u001b[49m\u001b[38;5;28;43mzip\u001b[39;49m\u001b[43m(\u001b[49m\u001b[43mpop_fit\u001b[49m\u001b[43m,\u001b[49m\u001b[43m \u001b[49m\u001b[38;5;28;43mrange\u001b[39;49m\u001b[43m(\u001b[49m\u001b[38;5;241;43m0\u001b[39;49m\u001b[43m,\u001b[49m\u001b[43m \u001b[49m\u001b[38;5;28;43mlen\u001b[39;49m\u001b[43m(\u001b[49m\u001b[43mpop_fit\u001b[49m\u001b[43m)\u001b[49m\u001b[43m)\u001b[49m\u001b[43m)\u001b[49m\u001b[43m)\u001b[49m\u001b[43m,\u001b[49m\u001b[43m \u001b[49m\u001b[43mK\u001b[49m\u001b[43m)\u001b[49m\n\u001b[1;32m      4\u001b[0m     ind \u001b[38;5;241m=\u001b[39m \u001b[38;5;28;01mNone\u001b[39;00m\n\u001b[1;32m      5\u001b[0m     \u001b[38;5;28;01mif\u001b[39;00m fit_fn \u001b[38;5;241m==\u001b[39m \u001b[38;5;124m'\u001b[39m\u001b[38;5;124mfrac\u001b[39m\u001b[38;5;124m'\u001b[39m:\n",
      "\u001b[0;31mKeyboardInterrupt\u001b[0m: "
     ]
    }
   ],
   "source": [
    "tune_mu(\"hello group one\", 2, alphabet)"
   ]
  },
  {
   "cell_type": "code",
   "execution_count": null,
   "id": "bc2a61d7",
   "metadata": {},
   "outputs": [],
   "source": []
  }
 ],
 "metadata": {
  "kernelspec": {
   "display_name": "Python 3 (ipykernel)",
   "language": "python",
   "name": "python3"
  },
  "language_info": {
   "codemirror_mode": {
    "name": "ipython",
    "version": 3
   },
   "file_extension": ".py",
   "mimetype": "text/x-python",
   "name": "python",
   "nbconvert_exporter": "python",
   "pygments_lexer": "ipython3",
   "version": "3.10.6"
  }
 },
 "nbformat": 4,
 "nbformat_minor": 5
}
