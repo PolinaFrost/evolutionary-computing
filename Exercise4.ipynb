{
 "cells": [
  {
   "cell_type": "code",
   "execution_count": 1,
   "id": "44a57bf0",
   "metadata": {},
   "outputs": [],
   "source": [
    "import random\n",
    "import Levenshtein"
   ]
  },
  {
   "cell_type": "code",
   "execution_count": 2,
   "id": "1ea1bf85",
   "metadata": {},
   "outputs": [],
   "source": [
    "alphabet = [\n",
    "    'a', 'b', 'c', 'd', 'e', 'f', 'g',\n",
    "    'h', 'i', 'j', 'k', 'l', 'm', 'n',\n",
    "    'o', 'p', 'q', 'r', 's', 't', 'u',\n",
    "    'v', 'w', 'x', 'y', 'z', ' '\n",
    "]"
   ]
  },
  {
   "cell_type": "code",
   "execution_count": 3,
   "id": "098b7f46",
   "metadata": {},
   "outputs": [],
   "source": [
    "def random_string(l, Sigma):\n",
    "    string = \"\"\n",
    "    for i in range(l):\n",
    "        value = random.choice(Sigma)\n",
    "        string += value\n",
    "    return string"
   ]
  },
  {
   "cell_type": "code",
   "execution_count": 4,
   "id": "d72551a4",
   "metadata": {},
   "outputs": [],
   "source": [
    "def initialize_population(N, l, Sigma):\n",
    "    return [random_string(l, Sigma) for x in range(0, N)]"
   ]
  },
  {
   "cell_type": "code",
   "execution_count": 5,
   "id": "85133efd",
   "metadata": {},
   "outputs": [],
   "source": [
    "def fraction_correct_characters(string, target):\n",
    "    assert len(string) == len(target)\n",
    "    \n",
    "    correct = 0\n",
    "    \n",
    "    for i in range(0, len(string)):\n",
    "        if string[i] == target[i]:\n",
    "            correct += 1 \n",
    "    \n",
    "    return correct / len(target)"
   ]
  },
  {
   "cell_type": "code",
   "execution_count": 6,
   "id": "0952928e",
   "metadata": {},
   "outputs": [],
   "source": [
    "def levenshtein_distance(string, target):\n",
    "    assert len(string) == len(target)\n",
    "    \n",
    "    return Levenshtein.distance(string, target)"
   ]
  },
  {
   "cell_type": "code",
   "execution_count": 7,
   "id": "62b8c44d",
   "metadata": {},
   "outputs": [],
   "source": [
    "def calculate_fitness(string, target, fit_fn):\n",
    "    if fit_fn == 'frac':\n",
    "        return fraction_correct_characters(string, target)\n",
    "    elif fit_fn == 'lev':\n",
    "        return levenshtein_distance(string, target)\n",
    "    else:\n",
    "        return fraction_correct_characters(string, target)"
   ]
  },
  {
   "cell_type": "code",
   "execution_count": 8,
   "id": "ee9927ce",
   "metadata": {},
   "outputs": [],
   "source": [
    "def select_parent(pop, pop_fit, K, fit_fn):\n",
    "    sel_pool = random.sample(list(zip(pop_fit, range(0, len(pop_fit)))), K)\n",
    "    \n",
    "    ind = None\n",
    "    if fit_fn == 'frac':\n",
    "        _, ind = max(sel_pool)\n",
    "    elif fit_fn == 'lev':\n",
    "        _, ind = min(sel_pool)\n",
    "    \n",
    "    return pop[ind]"
   ]
  },
  {
   "cell_type": "code",
   "execution_count": 9,
   "id": "79f612bd",
   "metadata": {},
   "outputs": [],
   "source": [
    "def cross_over(str1, str2):\n",
    "    assert len(str1) == len(str2)\n",
    "    \n",
    "    ind_to_split = random.randint(0, len(str1) - 1)\n",
    "    \n",
    "    return str1[:ind_to_split] + str2[ind_to_split:], str2[:ind_to_split] + str1[ind_to_split:]"
   ]
  },
  {
   "cell_type": "code",
   "execution_count": 10,
   "id": "51a9f10f",
   "metadata": {},
   "outputs": [],
   "source": [
    "def mutate(string, mu, Sigma):\n",
    "    x = \"\"\n",
    "    for i in range(0, len(string)):\n",
    "        random_number = random.random()\n",
    "        if mu > random_number:\n",
    "            x += random_string(1, Sigma)\n",
    "        else:\n",
    "            x += string[i]\n",
    "    \n",
    "    return x"
   ]
  },
  {
   "cell_type": "code",
   "execution_count": 11,
   "id": "dbe52c84",
   "metadata": {},
   "outputs": [],
   "source": [
    "def step(pop, target, K, mu, Sigma, fit_fn):\n",
    "    next_pop = []\n",
    "    best_fit = None\n",
    "    \n",
    "    # calculate fitness of individuals in current population\n",
    "    pop_fit = [calculate_fitness(x, target, fit_fn) for x in pop]\n",
    "    avg_fit = sum(pop_fit) / len(pop_fit)\n",
    "    \n",
    "    if fit_fn == 'frac':\n",
    "        best_fit = max(pop_fit)\n",
    "    elif fit_fn == 'lev':\n",
    "        best_fit = min(pop_fit)\n",
    "    \n",
    "    # create next population\n",
    "    while(len(next_pop) != len(pop)):\n",
    "        parent1 = select_parent(pop, pop_fit, K, fit_fn)\n",
    "        parent2 = select_parent(pop, pop_fit, K, fit_fn)\n",
    "        \n",
    "        child1, child2 = cross_over(parent1, parent2)\n",
    "        next_pop.append(mutate(child1, mu, Sigma))\n",
    "        next_pop.append(mutate(child2, mu, Sigma))\n",
    "    \n",
    "    return next_pop, avg_fit, best_fit"
   ]
  },
  {
   "cell_type": "code",
   "execution_count": 12,
   "id": "be98660b",
   "metadata": {},
   "outputs": [],
   "source": [
    "def GA(target, K, mu, Sigma, fit_fn = 'frac'):\n",
    "    l = len(target)\n",
    "    p_c = 1.0\n",
    "    N = 1000\n",
    "    iteration = 0\n",
    "    \n",
    "    pop = initialize_population(N, l, Sigma)\n",
    "    \n",
    "    while(not target in pop):\n",
    "        pop, avg_fit, best_fit = step(pop, target, K, mu, Sigma, fit_fn)\n",
    "        iteration += 1\n",
    "        print(\"Iter: {}, avg fit: {}, best fit: {}\".format(iteration, avg_fit, best_fit))\n",
    "        \n",
    "    return iteration"
   ]
  },
  {
   "cell_type": "code",
   "execution_count": 13,
   "id": "081c1c9f",
   "metadata": {},
   "outputs": [
    {
     "name": "stdout",
     "output_type": "stream",
     "text": [
      "Iter: 1, avg fit: 0.03793333333333344, best fit: 0.26666666666666666\n",
      "Iter: 2, avg fit: 0.062133333333333894, best fit: 0.3333333333333333\n",
      "Iter: 3, avg fit: 0.09400000000000058, best fit: 0.3333333333333333\n",
      "Iter: 4, avg fit: 0.12673333333333436, best fit: 0.4\n",
      "Iter: 5, avg fit: 0.162866666666667, best fit: 0.4\n",
      "Iter: 6, avg fit: 0.20119999999999988, best fit: 0.4666666666666667\n",
      "Iter: 7, avg fit: 0.2418666666666675, best fit: 0.5333333333333333\n",
      "Iter: 8, avg fit: 0.2848000000000003, best fit: 0.6\n",
      "Iter: 9, avg fit: 0.3325333333333313, best fit: 0.6666666666666666\n",
      "Iter: 10, avg fit: 0.3741999999999967, best fit: 0.6666666666666666\n",
      "Iter: 11, avg fit: 0.41866666666666275, best fit: 0.6666666666666666\n",
      "Iter: 12, avg fit: 0.4614666666666634, best fit: 0.8\n",
      "Iter: 13, avg fit: 0.5086000000000004, best fit: 0.8\n",
      "Iter: 14, avg fit: 0.5585333333333357, best fit: 0.8666666666666667\n",
      "Iter: 15, avg fit: 0.6078666666666707, best fit: 0.8666666666666667\n",
      "Iter: 16, avg fit: 0.6544000000000031, best fit: 0.9333333333333333\n"
     ]
    },
    {
     "data": {
      "text/plain": [
       "16"
      ]
     },
     "execution_count": 13,
     "metadata": {},
     "output_type": "execute_result"
    }
   ],
   "source": [
    "GA(\"hello group one\", 2, 0.01, alphabet)"
   ]
  },
  {
   "cell_type": "code",
   "execution_count": null,
   "id": "a738c1b6",
   "metadata": {},
   "outputs": [],
   "source": []
  }
 ],
 "metadata": {
  "kernelspec": {
   "display_name": "Python 3 (ipykernel)",
   "language": "python",
   "name": "python3"
  },
  "language_info": {
   "codemirror_mode": {
    "name": "ipython",
    "version": 3
   },
   "file_extension": ".py",
   "mimetype": "text/x-python",
   "name": "python",
   "nbconvert_exporter": "python",
   "pygments_lexer": "ipython3",
   "version": "3.10.6"
  }
 },
 "nbformat": 4,
 "nbformat_minor": 5
}
